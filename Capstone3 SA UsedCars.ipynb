{
 "cells": [
  {
   "cell_type": "markdown",
   "metadata": {},
   "source": [
    "### **Saudi Arabia Used Cars**"
   ]
  },
  {
   "cell_type": "markdown",
   "metadata": {},
   "source": [
    "### **Contents**\n",
    "\n",
    "1. Business Problem Understanding\n",
    "2. Data Understanding\n",
    "3. Data Preprocessing\n",
    "4. Modeling\n",
    "5. Conclusion\n",
    "6. Recommendation\n",
    "\n",
    "****"
   ]
  },
  {
   "cell_type": "markdown",
   "metadata": {},
   "source": [
    "### **Business Problem Understanding**"
   ]
  },
  {
   "cell_type": "markdown",
   "metadata": {},
   "source": [
    "**Context**\n",
    "\n",
    "Syarah adalah sebuah platform online yang khusus menjual mobil bekas dan baru, platform ini memberikan pengalaman pembelian online yang lancar dan nyaman bagi pelanggan. Melalui platform itu, pelanggan dapat menelusuri dan membeli mobil dari ponsel mereka tanpa kesulitan dan perusahaan mengirimkan mobil ke rumah mereka. Aplikasi ini menawarkan manfaat garansi komprehensif untuk mobil bekas. Mobil bekas diperiksa lebih dari 200 poin, dengan garansi satu tahun, dan yang terpenting adalah jaminan pengembalian dalam 10 hari sehingga pelanggan dapat mencoba mobil tersebut. dan jika pelanggan tidak menyukainya, mereka dapat mengembalikannya tanpa alasan apa pun. Kantor pusat kami berada di ibu kota Saudi - Riyadh, dan layanan kami mencakup seluruh wilayah Kerajaan. \n",
    "\n",
    "Syarah menjual mobil bekasnya ke pelanggan dengan harga yang beragam, dan ini tentu menyulitkan untuk menentukan harga jual yang wajar bagi pelanggan dan di sisi lain menguntungkan juga bagi perusahaan. Banyak faktor yang mempengaruhi harga dari mobil bekas, sehingga hal ini perlu dipahami oleh perusahaan karena berhubungan dengan profit yang didapatkan.    \n",
    "\n",
    " "
   ]
  },
  {
   "cell_type": "markdown",
   "metadata": {},
   "source": [
    "**Problem Statement**\n",
    "\n",
    "Salah satu tantangan terbesar bagi perusahaan seperti Syarah adalah pemecahan masalah untuk dapat memiliki model bisnis yang menguntungkan bagi perusahaan, tetapi di sisi lain juga memberikan pengalaman yang menyenangkan bagi pelanggan saat membeli mobil.\n",
    "\n",
    "Mengingat Syarah memegang kendali penuh untuk menentukan harga jual, maka cara untuk menentukan harga jual berdasarkan berbagai faktor agar tetap kompetitif dengan kompetitor sangatlah penting.  "
   ]
  },
  {
   "cell_type": "markdown",
   "metadata": {},
   "source": [
    "**Goals**\n",
    "\n",
    "Berdasarkan permasalahan tersebut, Syarah tentu perlu memiliki alat yang dapat memprediksi serta membantu perusahaan untuk dapat menentukan harga jual mobil yang tepat untuk ditawarkan ke pelanggan. Adanya  berbagai fitur yang terdapat pada suatu mobil bekas, seperti type mobil, produsen mobil, type transmisi, tahun dan kilometer/jarak tempuh mobil dapat menambah keakuratan prediksi harga jual, yang mana dapat mendatangkan profit perusahaan, dan juga tentunya masih wajar bagi pelanggan.\n",
    "\n",
    "Bagi Syarah, prediction tool yang dapat memberikan prediksi harga jual secara wajar tentu dapat meningkatkan jumlah pelanggan yang tertarik membeli mobil bekas. Dengan kata lain, semakin banyak pelanggan yang tertarik untuk membeli mobil maka dapat meningkatkan laba dari perusahaan "
   ]
  },
  {
   "cell_type": "markdown",
   "metadata": {},
   "source": [
    "**Analytic Approach**\n",
    "\n",
    "Kita akan membangun suatu model regresi yang akan membantu perusahaan untuk dapat menyediakan 'tool' prediksi harga jual mobil bekas, yang mana akan berguna bagi perusahaan dalam menentukan harga jual mobil bekas."
   ]
  },
  {
   "cell_type": "markdown",
   "metadata": {},
   "source": [
    "**Metric Evaluation**\n",
    "\n",
    "Evaluasi metrik yang akan digunakan adalah MAE dan MAPE. Dimana MAE adalah rataan nilai absolut dari error, sedangkan MAPE adalah rataan persentase error yang dihasilkan oleh model regresi. Semakin kecil nilai MAE dan MAPE yang dihasilkan, berarti model semakin akurat dalam memprediksi harga jual mobil sesuai dengan limitasi fitur yang digunakan. \n",
    "\n"
   ]
  },
  {
   "cell_type": "markdown",
   "metadata": {},
   "source": [
    "### **Data Understanding**"
   ]
  },
  {
   "cell_type": "markdown",
   "metadata": {},
   "source": [
    "- Dataset merupakan data harga jual mobil bekas di Syarah.\n",
    "- Setiap baris data merepresentasikan informasi terkait detail dari mobil yang akan dijual beserta harganya.\n",
    "\n",
    "\n",
    "**Attributes Information**\n",
    "\n",
    "| **Atribut** | **Tipe Data** | **Deskripsi** |\n",
    "| --- | --- | --- |\n",
    "| Type | Object | Type dari mobil bekas |\n",
    "| Region | Object | Wilayah dari mobil bekas |\n",
    "| Make | Object | Produsen Mobil |\n",
    "| Gear_Type | Object | Tipe Transmisi |\n",
    "| Origin | Object | Asal dari mobil bekas |\n",
    "| Options | Object | Opsi aksesoris dari mobil bekas |\n",
    "| Year | Integer | Tahun produksi |\n",
    "| Engine Size | Float | Ukuran mesin dari mobil bekas |\n",
    "| Mileage | Integer | Kilometer tempuh dari mobil bekas |\n",
    "| Negotiable | Bool | True jika harga jualnya 0, artinya dapat nego |\n",
    "| Price | Integer | Harga jual mobil bekas |\n",
    "\n",
    "<br>"
   ]
  },
  {
   "cell_type": "code",
   "execution_count": 201,
   "metadata": {},
   "outputs": [],
   "source": [
    "# Library\n",
    "import pandas as pd \n",
    "import numpy as np \n",
    "\n",
    "import matplotlib.pyplot as plt\n",
    "import seaborn as sns \n",
    "import warnings\n",
    "warnings.filterwarnings('ignore')\n",
    "\n"
   ]
  },
  {
   "cell_type": "code",
   "execution_count": 202,
   "metadata": {},
   "outputs": [
    {
     "data": {
      "text/html": [
       "<div>\n",
       "<style scoped>\n",
       "    .dataframe tbody tr th:only-of-type {\n",
       "        vertical-align: middle;\n",
       "    }\n",
       "\n",
       "    .dataframe tbody tr th {\n",
       "        vertical-align: top;\n",
       "    }\n",
       "\n",
       "    .dataframe thead th {\n",
       "        text-align: right;\n",
       "    }\n",
       "</style>\n",
       "<table border=\"1\" class=\"dataframe\">\n",
       "  <thead>\n",
       "    <tr style=\"text-align: right;\">\n",
       "      <th></th>\n",
       "      <th>Type</th>\n",
       "      <th>Region</th>\n",
       "      <th>Make</th>\n",
       "      <th>Gear_Type</th>\n",
       "      <th>Origin</th>\n",
       "      <th>Options</th>\n",
       "      <th>Year</th>\n",
       "      <th>Engine_Size</th>\n",
       "      <th>Mileage</th>\n",
       "      <th>Negotiable</th>\n",
       "      <th>Price</th>\n",
       "    </tr>\n",
       "  </thead>\n",
       "  <tbody>\n",
       "    <tr>\n",
       "      <th>0</th>\n",
       "      <td>Corolla</td>\n",
       "      <td>Abha</td>\n",
       "      <td>Toyota</td>\n",
       "      <td>Manual</td>\n",
       "      <td>Saudi</td>\n",
       "      <td>Standard</td>\n",
       "      <td>2013</td>\n",
       "      <td>1.4</td>\n",
       "      <td>421000</td>\n",
       "      <td>True</td>\n",
       "      <td>0</td>\n",
       "    </tr>\n",
       "    <tr>\n",
       "      <th>1</th>\n",
       "      <td>Yukon</td>\n",
       "      <td>Riyadh</td>\n",
       "      <td>GMC</td>\n",
       "      <td>Automatic</td>\n",
       "      <td>Saudi</td>\n",
       "      <td>Full</td>\n",
       "      <td>2014</td>\n",
       "      <td>8.0</td>\n",
       "      <td>80000</td>\n",
       "      <td>False</td>\n",
       "      <td>120000</td>\n",
       "    </tr>\n",
       "    <tr>\n",
       "      <th>2</th>\n",
       "      <td>Range Rover</td>\n",
       "      <td>Riyadh</td>\n",
       "      <td>Land Rover</td>\n",
       "      <td>Automatic</td>\n",
       "      <td>Gulf Arabic</td>\n",
       "      <td>Full</td>\n",
       "      <td>2015</td>\n",
       "      <td>5.0</td>\n",
       "      <td>140000</td>\n",
       "      <td>False</td>\n",
       "      <td>260000</td>\n",
       "    </tr>\n",
       "    <tr>\n",
       "      <th>3</th>\n",
       "      <td>Optima</td>\n",
       "      <td>Hafar Al-Batin</td>\n",
       "      <td>Kia</td>\n",
       "      <td>Automatic</td>\n",
       "      <td>Saudi</td>\n",
       "      <td>Semi Full</td>\n",
       "      <td>2015</td>\n",
       "      <td>2.4</td>\n",
       "      <td>220000</td>\n",
       "      <td>False</td>\n",
       "      <td>42000</td>\n",
       "    </tr>\n",
       "    <tr>\n",
       "      <th>4</th>\n",
       "      <td>FJ</td>\n",
       "      <td>Riyadh</td>\n",
       "      <td>Toyota</td>\n",
       "      <td>Automatic</td>\n",
       "      <td>Saudi</td>\n",
       "      <td>Full</td>\n",
       "      <td>2020</td>\n",
       "      <td>4.0</td>\n",
       "      <td>49000</td>\n",
       "      <td>True</td>\n",
       "      <td>0</td>\n",
       "    </tr>\n",
       "    <tr>\n",
       "      <th>...</th>\n",
       "      <td>...</td>\n",
       "      <td>...</td>\n",
       "      <td>...</td>\n",
       "      <td>...</td>\n",
       "      <td>...</td>\n",
       "      <td>...</td>\n",
       "      <td>...</td>\n",
       "      <td>...</td>\n",
       "      <td>...</td>\n",
       "      <td>...</td>\n",
       "      <td>...</td>\n",
       "    </tr>\n",
       "    <tr>\n",
       "      <th>5619</th>\n",
       "      <td>X-Trail</td>\n",
       "      <td>Jeddah</td>\n",
       "      <td>Nissan</td>\n",
       "      <td>Automatic</td>\n",
       "      <td>Saudi</td>\n",
       "      <td>Standard</td>\n",
       "      <td>2018</td>\n",
       "      <td>2.5</td>\n",
       "      <td>78794</td>\n",
       "      <td>False</td>\n",
       "      <td>68000</td>\n",
       "    </tr>\n",
       "    <tr>\n",
       "      <th>5620</th>\n",
       "      <td>Altima</td>\n",
       "      <td>Jeddah</td>\n",
       "      <td>Nissan</td>\n",
       "      <td>Automatic</td>\n",
       "      <td>Saudi</td>\n",
       "      <td>Semi Full</td>\n",
       "      <td>2020</td>\n",
       "      <td>2.5</td>\n",
       "      <td>58000</td>\n",
       "      <td>True</td>\n",
       "      <td>0</td>\n",
       "    </tr>\n",
       "    <tr>\n",
       "      <th>5621</th>\n",
       "      <td>Yukon</td>\n",
       "      <td>Dammam</td>\n",
       "      <td>GMC</td>\n",
       "      <td>Automatic</td>\n",
       "      <td>Saudi</td>\n",
       "      <td>Full</td>\n",
       "      <td>2016</td>\n",
       "      <td>5.3</td>\n",
       "      <td>48000</td>\n",
       "      <td>False</td>\n",
       "      <td>145000</td>\n",
       "    </tr>\n",
       "    <tr>\n",
       "      <th>5622</th>\n",
       "      <td>RX</td>\n",
       "      <td>Dammam</td>\n",
       "      <td>Lexus</td>\n",
       "      <td>Automatic</td>\n",
       "      <td>Gulf Arabic</td>\n",
       "      <td>Full</td>\n",
       "      <td>2016</td>\n",
       "      <td>2.5</td>\n",
       "      <td>81000</td>\n",
       "      <td>False</td>\n",
       "      <td>154000</td>\n",
       "    </tr>\n",
       "    <tr>\n",
       "      <th>5623</th>\n",
       "      <td>ES</td>\n",
       "      <td>Jeddah</td>\n",
       "      <td>Lexus</td>\n",
       "      <td>Automatic</td>\n",
       "      <td>Other</td>\n",
       "      <td>Full</td>\n",
       "      <td>2017</td>\n",
       "      <td>3.5</td>\n",
       "      <td>115000</td>\n",
       "      <td>True</td>\n",
       "      <td>0</td>\n",
       "    </tr>\n",
       "  </tbody>\n",
       "</table>\n",
       "<p>5624 rows × 11 columns</p>\n",
       "</div>"
      ],
      "text/plain": [
       "             Type          Region        Make  Gear_Type       Origin  \\\n",
       "0         Corolla            Abha      Toyota     Manual        Saudi   \n",
       "1           Yukon          Riyadh         GMC  Automatic        Saudi   \n",
       "2     Range Rover          Riyadh  Land Rover  Automatic  Gulf Arabic   \n",
       "3          Optima  Hafar Al-Batin         Kia  Automatic        Saudi   \n",
       "4              FJ          Riyadh      Toyota  Automatic        Saudi   \n",
       "...           ...             ...         ...        ...          ...   \n",
       "5619      X-Trail          Jeddah      Nissan  Automatic        Saudi   \n",
       "5620       Altima          Jeddah      Nissan  Automatic        Saudi   \n",
       "5621        Yukon          Dammam         GMC  Automatic        Saudi   \n",
       "5622           RX          Dammam       Lexus  Automatic  Gulf Arabic   \n",
       "5623           ES          Jeddah       Lexus  Automatic        Other   \n",
       "\n",
       "        Options  Year  Engine_Size  Mileage  Negotiable   Price  \n",
       "0      Standard  2013          1.4   421000        True       0  \n",
       "1          Full  2014          8.0    80000       False  120000  \n",
       "2          Full  2015          5.0   140000       False  260000  \n",
       "3     Semi Full  2015          2.4   220000       False   42000  \n",
       "4          Full  2020          4.0    49000        True       0  \n",
       "...         ...   ...          ...      ...         ...     ...  \n",
       "5619   Standard  2018          2.5    78794       False   68000  \n",
       "5620  Semi Full  2020          2.5    58000        True       0  \n",
       "5621       Full  2016          5.3    48000       False  145000  \n",
       "5622       Full  2016          2.5    81000       False  154000  \n",
       "5623       Full  2017          3.5   115000        True       0  \n",
       "\n",
       "[5624 rows x 11 columns]"
      ]
     },
     "execution_count": 202,
     "metadata": {},
     "output_type": "execute_result"
    }
   ],
   "source": [
    "# Load dataset\n",
    "df = pd.read_csv('data_saudi_used_cars.csv')\n",
    "df"
   ]
  },
  {
   "cell_type": "markdown",
   "metadata": {},
   "source": [
    "### **Data Preprocessing**\n",
    "\n",
    "Pada tahap ini, kita akan melakukan cleaning pada data yang nantinya data yang sudah dibersihkan akan kita gunakan untuk proses analisis selanjutnya. Hal yang perlu dilakukan seperti drop fitur yang tidak memiliki relevansi terhadap permasalahan yang sedang dihadapi."
   ]
  },
  {
   "cell_type": "markdown",
   "metadata": {},
   "source": [
    "**Duplikat Data**"
   ]
  },
  {
   "cell_type": "code",
   "execution_count": 203,
   "metadata": {},
   "outputs": [
    {
     "data": {
      "text/plain": [
       "4"
      ]
     },
     "execution_count": 203,
     "metadata": {},
     "output_type": "execute_result"
    }
   ],
   "source": [
    "# Cek Data Duplikat\n",
    "duplikat = df[df.duplicated()]\n",
    "df.duplicated().sum()"
   ]
  },
  {
   "cell_type": "markdown",
   "metadata": {},
   "source": [
    "Terdapat 4 data duplikat"
   ]
  },
  {
   "cell_type": "markdown",
   "metadata": {},
   "source": [
    "Duplikat Data di drop sehingga tidak ada data yang sama"
   ]
  },
  {
   "cell_type": "code",
   "execution_count": 204,
   "metadata": {},
   "outputs": [],
   "source": [
    "# Hapus data Duplikat\n",
    "df = df.drop_duplicates()"
   ]
  },
  {
   "cell_type": "markdown",
   "metadata": {},
   "source": [
    "**Missing Value**"
   ]
  },
  {
   "cell_type": "code",
   "execution_count": 205,
   "metadata": {},
   "outputs": [
    {
     "data": {
      "text/plain": [
       "Type           0\n",
       "Region         0\n",
       "Make           0\n",
       "Gear_Type      0\n",
       "Origin         0\n",
       "Options        0\n",
       "Year           0\n",
       "Engine_Size    0\n",
       "Mileage        0\n",
       "Negotiable     0\n",
       "Price          0\n",
       "dtype: int64"
      ]
     },
     "execution_count": 205,
     "metadata": {},
     "output_type": "execute_result"
    }
   ],
   "source": [
    "# Cek nilai missing value\n",
    "df.isnull().sum()"
   ]
  },
  {
   "cell_type": "markdown",
   "metadata": {},
   "source": [
    "Setelah dicek, tidak ada missing value "
   ]
  },
  {
   "cell_type": "code",
   "execution_count": 206,
   "metadata": {},
   "outputs": [
    {
     "name": "stdout",
     "output_type": "stream",
     "text": [
      "<class 'pandas.core.frame.DataFrame'>\n",
      "Index: 5620 entries, 0 to 5623\n",
      "Data columns (total 11 columns):\n",
      " #   Column       Non-Null Count  Dtype  \n",
      "---  ------       --------------  -----  \n",
      " 0   Type         5620 non-null   object \n",
      " 1   Region       5620 non-null   object \n",
      " 2   Make         5620 non-null   object \n",
      " 3   Gear_Type    5620 non-null   object \n",
      " 4   Origin       5620 non-null   object \n",
      " 5   Options      5620 non-null   object \n",
      " 6   Year         5620 non-null   int64  \n",
      " 7   Engine_Size  5620 non-null   float64\n",
      " 8   Mileage      5620 non-null   int64  \n",
      " 9   Negotiable   5620 non-null   bool   \n",
      " 10  Price        5620 non-null   int64  \n",
      "dtypes: bool(1), float64(1), int64(3), object(6)\n",
      "memory usage: 488.5+ KB\n"
     ]
    }
   ],
   "source": [
    "# Cek info dataset\n",
    "df.info()"
   ]
  },
  {
   "cell_type": "markdown",
   "metadata": {},
   "source": [
    "**Drop Columns**"
   ]
  },
  {
   "cell_type": "markdown",
   "metadata": {},
   "source": [
    "Diperlukan adanya pertimbangan sebelum melakukan drop pada kolom atau fitur. Sebagai pertimbangan, pada tahap awal ini kita bisa menggunakan domain knowledge untuk memutuskan kira-kira fitur mana saja yang dirasa tidak memiliki relevansi.\n",
    "Jika ditinjau berdasar domain knowledge, fitur Negotiable tidak memiliki relevansi dan kepentingan untuk analisis prediktif.\n",
    "\n"
   ]
  },
  {
   "cell_type": "code",
   "execution_count": 207,
   "metadata": {},
   "outputs": [],
   "source": [
    "# Drop Kolom Negotiable\n",
    "df.drop(columns=['Negotiable'],inplace=True)\n"
   ]
  },
  {
   "cell_type": "code",
   "execution_count": 208,
   "metadata": {},
   "outputs": [
    {
     "data": {
      "text/html": [
       "<div>\n",
       "<style scoped>\n",
       "    .dataframe tbody tr th:only-of-type {\n",
       "        vertical-align: middle;\n",
       "    }\n",
       "\n",
       "    .dataframe tbody tr th {\n",
       "        vertical-align: top;\n",
       "    }\n",
       "\n",
       "    .dataframe thead th {\n",
       "        text-align: right;\n",
       "    }\n",
       "</style>\n",
       "<table border=\"1\" class=\"dataframe\">\n",
       "  <thead>\n",
       "    <tr style=\"text-align: right;\">\n",
       "      <th></th>\n",
       "      <th>Type</th>\n",
       "      <th>Region</th>\n",
       "      <th>Make</th>\n",
       "      <th>Gear_Type</th>\n",
       "      <th>Origin</th>\n",
       "      <th>Options</th>\n",
       "      <th>Year</th>\n",
       "      <th>Engine_Size</th>\n",
       "      <th>Mileage</th>\n",
       "      <th>Price</th>\n",
       "    </tr>\n",
       "  </thead>\n",
       "  <tbody>\n",
       "    <tr>\n",
       "      <th>0</th>\n",
       "      <td>Corolla</td>\n",
       "      <td>Abha</td>\n",
       "      <td>Toyota</td>\n",
       "      <td>Manual</td>\n",
       "      <td>Saudi</td>\n",
       "      <td>Standard</td>\n",
       "      <td>2013</td>\n",
       "      <td>1.4</td>\n",
       "      <td>421000</td>\n",
       "      <td>0</td>\n",
       "    </tr>\n",
       "    <tr>\n",
       "      <th>1</th>\n",
       "      <td>Yukon</td>\n",
       "      <td>Riyadh</td>\n",
       "      <td>GMC</td>\n",
       "      <td>Automatic</td>\n",
       "      <td>Saudi</td>\n",
       "      <td>Full</td>\n",
       "      <td>2014</td>\n",
       "      <td>8.0</td>\n",
       "      <td>80000</td>\n",
       "      <td>120000</td>\n",
       "    </tr>\n",
       "    <tr>\n",
       "      <th>2</th>\n",
       "      <td>Range Rover</td>\n",
       "      <td>Riyadh</td>\n",
       "      <td>Land Rover</td>\n",
       "      <td>Automatic</td>\n",
       "      <td>Gulf Arabic</td>\n",
       "      <td>Full</td>\n",
       "      <td>2015</td>\n",
       "      <td>5.0</td>\n",
       "      <td>140000</td>\n",
       "      <td>260000</td>\n",
       "    </tr>\n",
       "    <tr>\n",
       "      <th>3</th>\n",
       "      <td>Optima</td>\n",
       "      <td>Hafar Al-Batin</td>\n",
       "      <td>Kia</td>\n",
       "      <td>Automatic</td>\n",
       "      <td>Saudi</td>\n",
       "      <td>Semi Full</td>\n",
       "      <td>2015</td>\n",
       "      <td>2.4</td>\n",
       "      <td>220000</td>\n",
       "      <td>42000</td>\n",
       "    </tr>\n",
       "    <tr>\n",
       "      <th>4</th>\n",
       "      <td>FJ</td>\n",
       "      <td>Riyadh</td>\n",
       "      <td>Toyota</td>\n",
       "      <td>Automatic</td>\n",
       "      <td>Saudi</td>\n",
       "      <td>Full</td>\n",
       "      <td>2020</td>\n",
       "      <td>4.0</td>\n",
       "      <td>49000</td>\n",
       "      <td>0</td>\n",
       "    </tr>\n",
       "    <tr>\n",
       "      <th>...</th>\n",
       "      <td>...</td>\n",
       "      <td>...</td>\n",
       "      <td>...</td>\n",
       "      <td>...</td>\n",
       "      <td>...</td>\n",
       "      <td>...</td>\n",
       "      <td>...</td>\n",
       "      <td>...</td>\n",
       "      <td>...</td>\n",
       "      <td>...</td>\n",
       "    </tr>\n",
       "    <tr>\n",
       "      <th>5619</th>\n",
       "      <td>X-Trail</td>\n",
       "      <td>Jeddah</td>\n",
       "      <td>Nissan</td>\n",
       "      <td>Automatic</td>\n",
       "      <td>Saudi</td>\n",
       "      <td>Standard</td>\n",
       "      <td>2018</td>\n",
       "      <td>2.5</td>\n",
       "      <td>78794</td>\n",
       "      <td>68000</td>\n",
       "    </tr>\n",
       "    <tr>\n",
       "      <th>5620</th>\n",
       "      <td>Altima</td>\n",
       "      <td>Jeddah</td>\n",
       "      <td>Nissan</td>\n",
       "      <td>Automatic</td>\n",
       "      <td>Saudi</td>\n",
       "      <td>Semi Full</td>\n",
       "      <td>2020</td>\n",
       "      <td>2.5</td>\n",
       "      <td>58000</td>\n",
       "      <td>0</td>\n",
       "    </tr>\n",
       "    <tr>\n",
       "      <th>5621</th>\n",
       "      <td>Yukon</td>\n",
       "      <td>Dammam</td>\n",
       "      <td>GMC</td>\n",
       "      <td>Automatic</td>\n",
       "      <td>Saudi</td>\n",
       "      <td>Full</td>\n",
       "      <td>2016</td>\n",
       "      <td>5.3</td>\n",
       "      <td>48000</td>\n",
       "      <td>145000</td>\n",
       "    </tr>\n",
       "    <tr>\n",
       "      <th>5622</th>\n",
       "      <td>RX</td>\n",
       "      <td>Dammam</td>\n",
       "      <td>Lexus</td>\n",
       "      <td>Automatic</td>\n",
       "      <td>Gulf Arabic</td>\n",
       "      <td>Full</td>\n",
       "      <td>2016</td>\n",
       "      <td>2.5</td>\n",
       "      <td>81000</td>\n",
       "      <td>154000</td>\n",
       "    </tr>\n",
       "    <tr>\n",
       "      <th>5623</th>\n",
       "      <td>ES</td>\n",
       "      <td>Jeddah</td>\n",
       "      <td>Lexus</td>\n",
       "      <td>Automatic</td>\n",
       "      <td>Other</td>\n",
       "      <td>Full</td>\n",
       "      <td>2017</td>\n",
       "      <td>3.5</td>\n",
       "      <td>115000</td>\n",
       "      <td>0</td>\n",
       "    </tr>\n",
       "  </tbody>\n",
       "</table>\n",
       "<p>5620 rows × 10 columns</p>\n",
       "</div>"
      ],
      "text/plain": [
       "             Type          Region        Make  Gear_Type       Origin  \\\n",
       "0         Corolla            Abha      Toyota     Manual        Saudi   \n",
       "1           Yukon          Riyadh         GMC  Automatic        Saudi   \n",
       "2     Range Rover          Riyadh  Land Rover  Automatic  Gulf Arabic   \n",
       "3          Optima  Hafar Al-Batin         Kia  Automatic        Saudi   \n",
       "4              FJ          Riyadh      Toyota  Automatic        Saudi   \n",
       "...           ...             ...         ...        ...          ...   \n",
       "5619      X-Trail          Jeddah      Nissan  Automatic        Saudi   \n",
       "5620       Altima          Jeddah      Nissan  Automatic        Saudi   \n",
       "5621        Yukon          Dammam         GMC  Automatic        Saudi   \n",
       "5622           RX          Dammam       Lexus  Automatic  Gulf Arabic   \n",
       "5623           ES          Jeddah       Lexus  Automatic        Other   \n",
       "\n",
       "        Options  Year  Engine_Size  Mileage   Price  \n",
       "0      Standard  2013          1.4   421000       0  \n",
       "1          Full  2014          8.0    80000  120000  \n",
       "2          Full  2015          5.0   140000  260000  \n",
       "3     Semi Full  2015          2.4   220000   42000  \n",
       "4          Full  2020          4.0    49000       0  \n",
       "...         ...   ...          ...      ...     ...  \n",
       "5619   Standard  2018          2.5    78794   68000  \n",
       "5620  Semi Full  2020          2.5    58000       0  \n",
       "5621       Full  2016          5.3    48000  145000  \n",
       "5622       Full  2016          2.5    81000  154000  \n",
       "5623       Full  2017          3.5   115000       0  \n",
       "\n",
       "[5620 rows x 10 columns]"
      ]
     },
     "execution_count": 208,
     "metadata": {},
     "output_type": "execute_result"
    }
   ],
   "source": [
    "df"
   ]
  },
  {
   "cell_type": "code",
   "execution_count": 209,
   "metadata": {},
   "outputs": [],
   "source": [
    "# Variabel untuk korelasi matrix\n",
    "df_num = df[['Year','Engine_Size','Mileage','Price']]\n"
   ]
  },
  {
   "cell_type": "code",
   "execution_count": 210,
   "metadata": {},
   "outputs": [
    {
     "data": {
      "image/png": "[encoded data removed]",
      "text/plain": [
       "<Figure size 1000x500 with 2 Axes>"
      ]
     },
     "metadata": {},
     "output_type": "display_data"
    }
   ],
   "source": [
    "# Korelasi matrix \n",
    "plt.figure(figsize=(10, 5))\n",
    "palette=sns.diverging_palette(20, 220, n=256)\n",
    "corr = df_num.corr(method='pearson')\n",
    "sns.heatmap(corr, annot=True, fmt='.2f', cmap=palette, square=True, linewidths=0.5)\n",
    "plt.title('Correlation Matrix', size=15, weight='bold');\n",
    "plt.show()"
   ]
  },
  {
   "cell_type": "markdown",
   "metadata": {},
   "source": [
    " \n",
    "Correlation matrix menunjukkan bahwa fitur Year memiliki korelasi yang paling kuat terhadap fitur price, di mana korelasinya adalah korelasi positif Ini berarti semakin tinggi tahun maka harganya akan semakin tinggi. Fitur Mileage memiliki korelasi negatif dengan Price, dimana semakin tinggi Mileage maka semakin berkurang Pricenya."
   ]
  },
  {
   "cell_type": "markdown",
   "metadata": {},
   "source": [
    "**Mendeteksi Outliers**\n",
    "\n"
   ]
  },
  {
   "cell_type": "code",
   "execution_count": 211,
   "metadata": {},
   "outputs": [
    {
     "data": {
      "image/png": "[encoded data removed]",
      "text/plain": [
       "<Figure size 640x480 with 1 Axes>"
      ]
     },
     "metadata": {},
     "output_type": "display_data"
    },
    {
     "data": {
      "image/png": "[encoded data removed]",
      "text/plain": [
       "<Figure size 640x480 with 1 Axes>"
      ]
     },
     "metadata": {},
     "output_type": "display_data"
    },
    {
     "data": {
      "image/png": "[encoded data removed]",
      "text/plain": [
       "<Figure size 640x480 with 1 Axes>"
      ]
     },
     "metadata": {},
     "output_type": "display_data"
    },
    {
     "data": {
      "image/png": "[encoded data removed]",
      "text/plain": [
       "<Figure size 640x480 with 1 Axes>"
      ]
     },
     "metadata": {},
     "output_type": "display_data"
    }
   ],
   "source": [
    "feature = ['Year', 'Engine_Size', 'Mileage', 'Price']\n",
    "\n",
    "for i in feature:\n",
    "    plt.figure()\n",
    "    sns.histplot(data = df, x = i, bins =10, kde=True)\n",
    "  \n",
    "plt.show()\n"
   ]
  },
  {
   "cell_type": "code",
   "execution_count": 212,
   "metadata": {},
   "outputs": [
    {
     "data": {
      "image/png": "[encoded data removed]",
      "text/plain": [
       "<Figure size 640x480 with 1 Axes>"
      ]
     },
     "metadata": {},
     "output_type": "display_data"
    }
   ],
   "source": [
    "# Plot boxplot untuk mengecek outliers\n",
    "df.boxplot(rot=90); \n"
   ]
  },
  {
   "cell_type": "markdown",
   "metadata": {},
   "source": [
    "Terlihat outliers di beberapa fitur seperti Mileage dan Price  "
   ]
  },
  {
   "cell_type": "code",
   "execution_count": 213,
   "metadata": {},
   "outputs": [],
   "source": [
    "# Membuat fungsi untuk mengecek outliers\n",
    "def find_anomalies(data):\n",
    "    q1 = data.quantile(0.25)\n",
    "    q3 = data.quantile(0.75)\n",
    "    iqr = q3 - q1\n",
    "    limit = iqr*1.5\n",
    "    print(f'IQR: {iqr}')\n",
    "\n",
    "    limit_bawah = q1 - limit\n",
    "    limit_atas = q3 + limit\n",
    "    print(f'limit_bawah: {limit_bawah}')\n",
    "    print(f'limit_atas: {limit_atas}')       "
   ]
  },
  {
   "cell_type": "code",
   "execution_count": 214,
   "metadata": {},
   "outputs": [
    {
     "name": "stdout",
     "output_type": "stream",
     "text": [
      "IQR: 158000.0\n",
      "limit_bawah: -199000.0\n",
      "limit_atas: 433000.0\n"
     ]
    }
   ],
   "source": [
    "# Outliers pada Mileage\n",
    "find_anomalies(df['Mileage'])"
   ]
  },
  {
   "cell_type": "code",
   "execution_count": 215,
   "metadata": {},
   "outputs": [
    {
     "name": "stdout",
     "output_type": "stream",
     "text": [
      "IQR: 73000.0\n",
      "limit_bawah: -109500.0\n",
      "limit_atas: 182500.0\n"
     ]
    }
   ],
   "source": [
    "# Outliers pada Price\n",
    "find_anomalies(df['Price'])"
   ]
  },
  {
   "cell_type": "code",
   "execution_count": 216,
   "metadata": {},
   "outputs": [
    {
     "data": {
      "text/plain": [
       "count    5.620000e+03\n",
       "mean     1.509222e+05\n",
       "std      3.829633e+05\n",
       "min      1.000000e+02\n",
       "25%      3.800000e+04\n",
       "50%      1.030000e+05\n",
       "75%      1.960000e+05\n",
       "max      2.000000e+07\n",
       "Name: Mileage, dtype: float64"
      ]
     },
     "execution_count": 216,
     "metadata": {},
     "output_type": "execute_result"
    }
   ],
   "source": [
    "# Cek deskriptif statistik kolom Mileage\n",
    "df['Mileage'].describe()"
   ]
  },
  {
   "cell_type": "markdown",
   "metadata": {},
   "source": [
    "**Mileage**"
   ]
  },
  {
   "cell_type": "code",
   "execution_count": 217,
   "metadata": {},
   "outputs": [
    {
     "data": {
      "text/plain": [
       "175"
      ]
     },
     "execution_count": 217,
     "metadata": {},
     "output_type": "execute_result"
    }
   ],
   "source": [
    "# Cek Mileage > 433.000\n",
    "\n",
    "df[df['Mileage']>433000].count()['Mileage']"
   ]
  },
  {
   "cell_type": "markdown",
   "metadata": {},
   "source": [
    "Terlihat bahwa 75% data pada kolom Mileage bernilai kurang sama dengan dari 196.000, sedangkan nilai maksimalnya adalah 20.000.000. Terdapat 175 data yang nilai Mileage-nya lebih besar dari 433.000 (batas atas berdasarkan metode IQR). Oleh karena itu, data yang memiliki Mileage lebih besar dari 433.000 tidak akan dimasukkan ke dalam pemodelan. Hal ini akan menjadi limitasi untuk model yang nantinya dibangun. "
   ]
  },
  {
   "cell_type": "code",
   "execution_count": 218,
   "metadata": {},
   "outputs": [],
   "source": [
    "# Melakukan filtering pada Mileage\n",
    "df = df[(df['Mileage'] <= 433000)]"
   ]
  },
  {
   "cell_type": "code",
   "execution_count": 219,
   "metadata": {},
   "outputs": [
    {
     "data": {
      "text/plain": [
       "count      5445.000000\n",
       "mean     120837.380349\n",
       "std      102753.937014\n",
       "min         100.000000\n",
       "25%       35449.000000\n",
       "50%       99000.000000\n",
       "75%      183541.000000\n",
       "max      433000.000000\n",
       "Name: Mileage, dtype: float64"
      ]
     },
     "execution_count": 219,
     "metadata": {},
     "output_type": "execute_result"
    }
   ],
   "source": [
    "# Cek deskriptif statistik kolom Mileage setelah filtering\n",
    "df['Mileage'].describe()"
   ]
  },
  {
   "cell_type": "markdown",
   "metadata": {},
   "source": [
    "**Price**"
   ]
  },
  {
   "cell_type": "markdown",
   "metadata": {},
   "source": [
    "Dikarenakan tujuan dari Regresi Analisis adalah untuk memprediksi harga jual dari mobil, disamping harga jual mobil negotiable atau tidak, data yang dibutuhkan haruslah jelas definisinya(bukan 0). Karena itu, data dengan harga jual 0 akan dihapus."
   ]
  },
  {
   "cell_type": "code",
   "execution_count": 220,
   "metadata": {},
   "outputs": [],
   "source": [
    "# Filter Harga tidak sama dengan 0\n",
    "df = df[df['Price'] != 0] "
   ]
  },
  {
   "cell_type": "code",
   "execution_count": 221,
   "metadata": {},
   "outputs": [
    {
     "data": {
      "text/plain": [
       "count      3742.000000\n",
       "mean      78887.438001\n",
       "std       72888.879945\n",
       "min           1.000000\n",
       "25%       36000.000000\n",
       "50%       58000.000000\n",
       "75%       95000.000000\n",
       "max      850000.000000\n",
       "Name: Price, dtype: float64"
      ]
     },
     "execution_count": 221,
     "metadata": {},
     "output_type": "execute_result"
    }
   ],
   "source": [
    "# Cek deskriptif statistik kolom Price\n",
    "df['Price'].describe()"
   ]
  },
  {
   "cell_type": "code",
   "execution_count": 222,
   "metadata": {},
   "outputs": [
    {
     "data": {
      "text/plain": [
       "260"
      ]
     },
     "execution_count": 222,
     "metadata": {},
     "output_type": "execute_result"
    }
   ],
   "source": [
    "# Cek Price > 182.500\n",
    "\n",
    "df[df['Price']>182500].count()['Price']"
   ]
  },
  {
   "cell_type": "code",
   "execution_count": 223,
   "metadata": {},
   "outputs": [],
   "source": [
    "# Melakukan filtering pada Price\n",
    "df = df[(df['Price']>=34000) & (df['Price'] <=182500)]\n"
   ]
  },
  {
   "cell_type": "markdown",
   "metadata": {},
   "source": [
    "Terdapat angka 1 di kolom Price dan ini tidak masuk akal, sehingga ditetapkan minimum dari harga jual terendahnya adalah 34.000 yang didasarkan pada kisaran harga terendah dari website [kavak](https://kavak.com/gcc/sa-en/buy?s=lp)"
   ]
  },
  {
   "cell_type": "code",
   "execution_count": 224,
   "metadata": {},
   "outputs": [
    {
     "data": {
      "text/html": [
       "<div>\n",
       "<style scoped>\n",
       "    .dataframe tbody tr th:only-of-type {\n",
       "        vertical-align: middle;\n",
       "    }\n",
       "\n",
       "    .dataframe tbody tr th {\n",
       "        vertical-align: top;\n",
       "    }\n",
       "\n",
       "    .dataframe thead th {\n",
       "        text-align: right;\n",
       "    }\n",
       "</style>\n",
       "<table border=\"1\" class=\"dataframe\">\n",
       "  <thead>\n",
       "    <tr style=\"text-align: right;\">\n",
       "      <th></th>\n",
       "      <th>Year</th>\n",
       "      <th>Engine_Size</th>\n",
       "      <th>Mileage</th>\n",
       "      <th>Price</th>\n",
       "    </tr>\n",
       "  </thead>\n",
       "  <tbody>\n",
       "    <tr>\n",
       "      <th>count</th>\n",
       "      <td>2652.000000</td>\n",
       "      <td>2652.000000</td>\n",
       "      <td>2652.000000</td>\n",
       "      <td>2652.000000</td>\n",
       "    </tr>\n",
       "    <tr>\n",
       "      <th>mean</th>\n",
       "      <td>2015.843137</td>\n",
       "      <td>3.261388</td>\n",
       "      <td>116258.565234</td>\n",
       "      <td>76766.144042</td>\n",
       "    </tr>\n",
       "    <tr>\n",
       "      <th>std</th>\n",
       "      <td>3.592751</td>\n",
       "      <td>1.394696</td>\n",
       "      <td>87959.737884</td>\n",
       "      <td>35703.127559</td>\n",
       "    </tr>\n",
       "    <tr>\n",
       "      <th>min</th>\n",
       "      <td>1964.000000</td>\n",
       "      <td>1.000000</td>\n",
       "      <td>100.000000</td>\n",
       "      <td>34000.000000</td>\n",
       "    </tr>\n",
       "    <tr>\n",
       "      <th>25%</th>\n",
       "      <td>2015.000000</td>\n",
       "      <td>2.400000</td>\n",
       "      <td>52747.500000</td>\n",
       "      <td>49500.000000</td>\n",
       "    </tr>\n",
       "    <tr>\n",
       "      <th>50%</th>\n",
       "      <td>2016.000000</td>\n",
       "      <td>3.000000</td>\n",
       "      <td>99000.000000</td>\n",
       "      <td>66000.000000</td>\n",
       "    </tr>\n",
       "    <tr>\n",
       "      <th>75%</th>\n",
       "      <td>2018.000000</td>\n",
       "      <td>4.000000</td>\n",
       "      <td>166454.000000</td>\n",
       "      <td>95000.000000</td>\n",
       "    </tr>\n",
       "    <tr>\n",
       "      <th>max</th>\n",
       "      <td>2021.000000</td>\n",
       "      <td>9.000000</td>\n",
       "      <td>425000.000000</td>\n",
       "      <td>182000.000000</td>\n",
       "    </tr>\n",
       "  </tbody>\n",
       "</table>\n",
       "</div>"
      ],
      "text/plain": [
       "              Year  Engine_Size        Mileage          Price\n",
       "count  2652.000000  2652.000000    2652.000000    2652.000000\n",
       "mean   2015.843137     3.261388  116258.565234   76766.144042\n",
       "std       3.592751     1.394696   87959.737884   35703.127559\n",
       "min    1964.000000     1.000000     100.000000   34000.000000\n",
       "25%    2015.000000     2.400000   52747.500000   49500.000000\n",
       "50%    2016.000000     3.000000   99000.000000   66000.000000\n",
       "75%    2018.000000     4.000000  166454.000000   95000.000000\n",
       "max    2021.000000     9.000000  425000.000000  182000.000000"
      ]
     },
     "execution_count": 224,
     "metadata": {},
     "output_type": "execute_result"
    }
   ],
   "source": [
    "df.describe() "
   ]
  },
  {
   "cell_type": "markdown",
   "metadata": {},
   "source": [
    "Terlihat bahwa 75% data pada kolom Price bernilai kurang sama dengan 95.000, sedangkan nilai maksimalnya adalah 850.000. Terdapat 260 data yang nilai Price-nya lebih besar dari 182.500 (batas atas berdasarkan metode IQR). Oleh karena itu, data yang memiliki Price lebih besar dari 182.500 tidak akan dimasukkan ke dalam pemodelan. Hal ini akan menjadi limitasi untuk model yang nantinya dibangun. "
   ]
  },
  {
   "cell_type": "code",
   "execution_count": 225,
   "metadata": {},
   "outputs": [
    {
     "data": {
      "text/plain": [
       "count      2652.000000\n",
       "mean      76766.144042\n",
       "std       35703.127559\n",
       "min       34000.000000\n",
       "25%       49500.000000\n",
       "50%       66000.000000\n",
       "75%       95000.000000\n",
       "max      182000.000000\n",
       "Name: Price, dtype: float64"
      ]
     },
     "execution_count": 225,
     "metadata": {},
     "output_type": "execute_result"
    }
   ],
   "source": [
    "# Cek deskriptif statistik kolom Price setelah filtering\n",
    "df['Price'].describe()"
   ]
  },
  {
   "cell_type": "code",
   "execution_count": 226,
   "metadata": {},
   "outputs": [
    {
     "name": "stdout",
     "output_type": "stream",
     "text": [
      "<class 'pandas.core.frame.DataFrame'>\n",
      "Index: 2652 entries, 1 to 5622\n",
      "Data columns (total 10 columns):\n",
      " #   Column       Non-Null Count  Dtype  \n",
      "---  ------       --------------  -----  \n",
      " 0   Type         2652 non-null   object \n",
      " 1   Region       2652 non-null   object \n",
      " 2   Make         2652 non-null   object \n",
      " 3   Gear_Type    2652 non-null   object \n",
      " 4   Origin       2652 non-null   object \n",
      " 5   Options      2652 non-null   object \n",
      " 6   Year         2652 non-null   int64  \n",
      " 7   Engine_Size  2652 non-null   float64\n",
      " 8   Mileage      2652 non-null   int64  \n",
      " 9   Price        2652 non-null   int64  \n",
      "dtypes: float64(1), int64(3), object(6)\n",
      "memory usage: 227.9+ KB\n"
     ]
    }
   ],
   "source": [
    "# Cek kembali info dataset\n",
    "df.info()"
   ]
  },
  {
   "cell_type": "markdown",
   "metadata": {},
   "source": [
    "Pada akhirnya tersisa 2.652 baris data dari 5624 baris data hasil dari data cleaning"
   ]
  },
  {
   "cell_type": "markdown",
   "metadata": {},
   "source": [
    "### **Data Modelling**"
   ]
  },
  {
   "cell_type": "code",
   "execution_count": 227,
   "metadata": {},
   "outputs": [],
   "source": [
    "# Import library untuk modeling\n",
    "\n",
    "from sklearn.model_selection import train_test_split, cross_val_score, RandomizedSearchCV, GridSearchCV, KFold\n",
    "from sklearn.model_selection import GridSearchCV,RandomizedSearchCV\n",
    "import category_encoders as ce\n",
    "from sklearn.preprocessing import OneHotEncoder\n",
    "from sklearn.compose import ColumnTransformer\n",
    "from sklearn.pipeline import Pipeline\n",
    "\n",
    "from sklearn.linear_model import LinearRegression\n",
    "from sklearn.neighbors import KNeighborsRegressor\n",
    "from sklearn.tree import DecisionTreeRegressor\n",
    "from sklearn.ensemble import RandomForestRegressor,GradientBoostingRegressor, AdaBoostRegressor\n",
    "from xgboost.sklearn import XGBRegressor\n",
    "from sklearn.compose import TransformedTargetRegressor\n",
    "from sklearn.svm import SVR\n",
    "\n",
    "from sklearn.preprocessing import RobustScaler,StandardScaler\n",
    "\n",
    "from sklearn.metrics import r2_score, mean_squared_error, mean_absolute_error, mean_absolute_percentage_error"
   ]
  },
  {
   "cell_type": "markdown",
   "metadata": {},
   "source": [
    "**Encoding**"
   ]
  },
  {
   "cell_type": "code",
   "execution_count": 228,
   "metadata": {},
   "outputs": [
    {
     "data": {
      "text/plain": [
       "Index(['Type', 'Region', 'Make', 'Gear_Type', 'Origin', 'Options', 'Year',\n",
       "       'Engine_Size', 'Mileage', 'Price'],\n",
       "      dtype='object')"
      ]
     },
     "execution_count": 228,
     "metadata": {},
     "output_type": "execute_result"
    }
   ],
   "source": [
    "df.columns "
   ]
  },
  {
   "cell_type": "code",
   "execution_count": 229,
   "metadata": {},
   "outputs": [],
   "source": [
    "# Mengubah fitur kategorikal menjadi numerikal dan menyamakan skala\n",
    "\n",
    "transformer = ColumnTransformer([\n",
    "    ('scaler', RobustScaler(),['Year','Engine_Size','Mileage']),\n",
    "    ('One Hot', OneHotEncoder(), ['Gear_Type','Origin','Options']),\n",
    "    ('Binary', ce.BinaryEncoder(), ['Region','Make','Type'])\n",
    "], remainder='passthrough') \n"
   ]
  },
  {
   "cell_type": "markdown",
   "metadata": {},
   "source": [
    "**Data Splitting**"
   ]
  },
  {
   "cell_type": "code",
   "execution_count": 230,
   "metadata": {},
   "outputs": [],
   "source": [
    "# Memisahkan independen variabel dengan target\n",
    "x = df[['Year','Engine_Size','Mileage','Gear_Type','Region','Origin','Options','Make','Type']]\n",
    "y = df['Price'] "
   ]
  },
  {
   "cell_type": "markdown",
   "metadata": {},
   "source": [
    "**Train and Test Splitting**"
   ]
  },
  {
   "cell_type": "code",
   "execution_count": 231,
   "metadata": {},
   "outputs": [],
   "source": [
    "# Splitting data training dan test dengan proporsi 80:20\n",
    "x_train, x_test, y_train, y_test= train_test_split(  \n",
    "    x,\n",
    "    y,  \n",
    "    test_size=0.2,\n",
    "    random_state=2024)"
   ]
  },
  {
   "cell_type": "markdown",
   "metadata": {},
   "source": [
    "**Choose a Benchmark Model**"
   ]
  },
  {
   "cell_type": "code",
   "execution_count": 232,
   "metadata": {},
   "outputs": [],
   "source": [
    "# Model Benchmarking\n",
    "lr = LinearRegression()\n",
    "knn = KNeighborsRegressor()\n",
    "dt = DecisionTreeRegressor(random_state=2024)\n",
    "rf = RandomForestRegressor(random_state=2024)\n",
    "xgb = XGBRegressor(random_state=2024)\n",
    "svr = SVR(kernel='linear')\n",
    "ada = AdaBoostRegressor(random_state = 2024)\n",
    "gbr = GradientBoostingRegressor(random_state = 2024)\n"
   ]
  },
  {
   "cell_type": "code",
   "execution_count": 233,
   "metadata": {},
   "outputs": [
    {
     "name": "stdout",
     "output_type": "stream",
     "text": [
      "[-20753.17647059 -19689.28301887 -20837.8490566  -19498.66509434\n",
      " -19634.25707547] LinearRegression()\n",
      "[-0.31108506 -0.26714405 -0.30680271 -0.28595101 -0.28219841] LinearRegression()\n",
      "[-16192.936      -15643.91037736 -14941.50943396 -13406.15613208\n",
      " -14506.79009434] KNeighborsRegressor()\n",
      "[-0.23465704 -0.20975857 -0.21828377 -0.19289496 -0.21201083] KNeighborsRegressor()\n",
      "[-20090.35294118 -16841.98113208 -19485.8490566  -16751.98349057\n",
      " -18066.98349057] DecisionTreeRegressor(random_state=2024)\n",
      "[-0.28710413 -0.23062687 -0.26835182 -0.23511182 -0.25230635] DecisionTreeRegressor(random_state=2024)\n",
      "[-13320.68547794 -13094.98863594 -13676.72666384 -12127.22031158\n",
      " -12363.67299897] XGBRegressor(base_score=None, booster=None, callbacks=None,\n",
      "             colsample_bylevel=None, colsample_bynode=None,\n",
      "             colsample_bytree=None, device=None, early_stopping_rounds=None,\n",
      "             enable_categorical=False, eval_metric=None, feature_types=None,\n",
      "             gamma=None, grow_policy=None, importance_type=None,\n",
      "             interaction_constraints=None, learning_rate=None, max_bin=None,\n",
      "             max_cat_threshold=None, max_cat_to_onehot=None,\n",
      "             max_delta_step=None, max_depth=None, max_leaves=None,\n",
      "             min_child_weight=None, missing=nan, monotone_constraints=None,\n",
      "             multi_strategy=None, n_estimators=None, n_jobs=None,\n",
      "             num_parallel_tree=None, random_state=2024, ...)\n",
      "[-0.1998763  -0.18068928 -0.19907554 -0.16955228 -0.17729278] XGBRegressor(base_score=None, booster=None, callbacks=None,\n",
      "             colsample_bylevel=None, colsample_bynode=None,\n",
      "             colsample_bytree=None, device=None, early_stopping_rounds=None,\n",
      "             enable_categorical=False, eval_metric=None, feature_types=None,\n",
      "             gamma=None, grow_policy=None, importance_type=None,\n",
      "             interaction_constraints=None, learning_rate=None, max_bin=None,\n",
      "             max_cat_threshold=None, max_cat_to_onehot=None,\n",
      "             max_delta_step=None, max_depth=None, max_leaves=None,\n",
      "             min_child_weight=None, missing=nan, monotone_constraints=None,\n",
      "             multi_strategy=None, n_estimators=None, n_jobs=None,\n",
      "             num_parallel_tree=None, random_state=2024, ...)\n"
     ]
    },
    {
     "name": "stdout",
     "output_type": "stream",
     "text": [
      "[-14453.07308235 -12940.3472664  -14090.12930818 -11961.86922956\n",
      " -12784.29575472] RandomForestRegressor(random_state=2024)\n",
      "[-0.21794317 -0.17146306 -0.2034534  -0.17357157 -0.18248449] RandomForestRegressor(random_state=2024)\n",
      "[-27202.73798205 -28125.11467116 -26071.52851046 -26403.97960217\n",
      " -27388.62874708] SVR(kernel='linear')\n",
      "[-0.35834469 -0.33323692 -0.33752415 -0.33971322 -0.35264082] SVR(kernel='linear')\n",
      "[-22835.17859154 -22832.76036684 -23974.35526201 -23810.44103057\n",
      " -24007.67148638] AdaBoostRegressor(random_state=2024)\n",
      "[-0.37228189 -0.3529575  -0.39759744 -0.39063291 -0.39505447] AdaBoostRegressor(random_state=2024)\n",
      "[-15962.36839281 -14495.4309918  -14782.77875065 -14061.19281569\n",
      " -14439.22994563] GradientBoostingRegressor(random_state=2024)\n",
      "[-0.23232902 -0.19033319 -0.20935467 -0.19987126 -0.20301006] GradientBoostingRegressor(random_state=2024)\n"
     ]
    }
   ],
   "source": [
    "# Cross Validation\n",
    "models = [lr, knn, dt, xgb, rf, svr, ada, gbr]\n",
    "\n",
    "score_mae = []\n",
    "nilai_mean_mae = []\n",
    "nilai_std_mae = []\n",
    "\n",
    "score_mape = []\n",
    "nilai_mean_mape = []\n",
    "nilai_std_mape = []\n",
    "\n",
    "# Mencari algoritma terbaik berdasarkan tiap metrics\n",
    "for i in models:\n",
    "    \n",
    "    crossval = KFold(n_splits=5, shuffle=True, random_state=1)\n",
    "\n",
    "    estimator = Pipeline([\n",
    "        ('preprocessing', transformer),\n",
    "        ('modela', i)\n",
    "    ])\n",
    "\n",
    "    # MAE\n",
    "    model_cv_mae = cross_val_score(\n",
    "        estimator, \n",
    "        x_train, \n",
    "        y_train, \n",
    "        cv=crossval, \n",
    "        scoring='neg_mean_absolute_error', \n",
    "        error_score='raise'\n",
    "        )\n",
    "\n",
    "    print(model_cv_mae, i)\n",
    "\n",
    "    score_mae.append(model_cv_mae)\n",
    "    nilai_mean_mae.append(model_cv_mae.mean())\n",
    "    nilai_std_mae.append(model_cv_mae.std())\n",
    "\n",
    "    # MAPE\n",
    "    model_cv_mape = cross_val_score(\n",
    "        estimator, \n",
    "        x_train, \n",
    "        y_train, \n",
    "        cv=crossval, \n",
    "        scoring='neg_mean_absolute_percentage_error', \n",
    "        error_score='raise'\n",
    "        )\n",
    "\n",
    "    print(model_cv_mape, i)\n",
    "    \n",
    "    score_mape.append(model_cv_mape)\n",
    "    nilai_mean_mape.append(model_cv_mape.mean())\n",
    "    nilai_std_mape.append(model_cv_mape.std())"
   ]
  },
  {
   "cell_type": "code",
   "execution_count": 234,
   "metadata": {},
   "outputs": [
    {
     "data": {
      "text/html": [
       "<div>\n",
       "<style scoped>\n",
       "    .dataframe tbody tr th:only-of-type {\n",
       "        vertical-align: middle;\n",
       "    }\n",
       "\n",
       "    .dataframe tbody tr th {\n",
       "        vertical-align: top;\n",
       "    }\n",
       "\n",
       "    .dataframe thead th {\n",
       "        text-align: right;\n",
       "    }\n",
       "</style>\n",
       "<table border=\"1\" class=\"dataframe\">\n",
       "  <thead>\n",
       "    <tr style=\"text-align: right;\">\n",
       "      <th></th>\n",
       "      <th>Modela</th>\n",
       "      <th>Mean_MAE</th>\n",
       "      <th>Std_MAE</th>\n",
       "      <th>Mean_MAPE</th>\n",
       "      <th>Std_MAPE</th>\n",
       "    </tr>\n",
       "  </thead>\n",
       "  <tbody>\n",
       "    <tr>\n",
       "      <th>3</th>\n",
       "      <td>RandomForest Regressor</td>\n",
       "      <td>-12916.658818</td>\n",
       "      <td>583.395006</td>\n",
       "      <td>-0.185297</td>\n",
       "      <td>0.012129</td>\n",
       "    </tr>\n",
       "    <tr>\n",
       "      <th>4</th>\n",
       "      <td>XGBoost Regressor</td>\n",
       "      <td>-13245.942928</td>\n",
       "      <td>908.313375</td>\n",
       "      <td>-0.189783</td>\n",
       "      <td>0.018064</td>\n",
       "    </tr>\n",
       "    <tr>\n",
       "      <th>7</th>\n",
       "      <td>Ada Boost Regressor</td>\n",
       "      <td>-14748.200179</td>\n",
       "      <td>649.112334</td>\n",
       "      <td>-0.206980</td>\n",
       "      <td>0.014083</td>\n",
       "    </tr>\n",
       "    <tr>\n",
       "      <th>1</th>\n",
       "      <td>KNN Regressor</td>\n",
       "      <td>-14938.260408</td>\n",
       "      <td>959.757617</td>\n",
       "      <td>-0.213521</td>\n",
       "      <td>0.013500</td>\n",
       "    </tr>\n",
       "    <tr>\n",
       "      <th>2</th>\n",
       "      <td>DecisionTree Regressor</td>\n",
       "      <td>-18247.430022</td>\n",
       "      <td>1354.566680</td>\n",
       "      <td>-0.254700</td>\n",
       "      <td>0.021002</td>\n",
       "    </tr>\n",
       "    <tr>\n",
       "      <th>0</th>\n",
       "      <td>Linear Regression</td>\n",
       "      <td>-20082.646143</td>\n",
       "      <td>585.963058</td>\n",
       "      <td>-0.290636</td>\n",
       "      <td>0.016276</td>\n",
       "    </tr>\n",
       "    <tr>\n",
       "      <th>5</th>\n",
       "      <td>SVR</td>\n",
       "      <td>-27038.397903</td>\n",
       "      <td>730.471853</td>\n",
       "      <td>-0.344292</td>\n",
       "      <td>0.009552</td>\n",
       "    </tr>\n",
       "    <tr>\n",
       "      <th>6</th>\n",
       "      <td>Gradient Boost Regressor</td>\n",
       "      <td>-23492.081347</td>\n",
       "      <td>541.479380</td>\n",
       "      <td>-0.381705</td>\n",
       "      <td>0.016886</td>\n",
       "    </tr>\n",
       "  </tbody>\n",
       "</table>\n",
       "</div>"
      ],
      "text/plain": [
       "                     Modela      Mean_MAE      Std_MAE  Mean_MAPE  Std_MAPE\n",
       "3    RandomForest Regressor -12916.658818   583.395006  -0.185297  0.012129\n",
       "4         XGBoost Regressor -13245.942928   908.313375  -0.189783  0.018064\n",
       "7       Ada Boost Regressor -14748.200179   649.112334  -0.206980  0.014083\n",
       "1             KNN Regressor -14938.260408   959.757617  -0.213521  0.013500\n",
       "2    DecisionTree Regressor -18247.430022  1354.566680  -0.254700  0.021002\n",
       "0         Linear Regression -20082.646143   585.963058  -0.290636  0.016276\n",
       "5                       SVR -27038.397903   730.471853  -0.344292  0.009552\n",
       "6  Gradient Boost Regressor -23492.081347   541.479380  -0.381705  0.016886"
      ]
     },
     "execution_count": 234,
     "metadata": {},
     "output_type": "execute_result"
    }
   ],
   "source": [
    "# Evaluasi hasil dari 8 kandidat algoritma yang digunakan\n",
    "\n",
    "Z = pd.DataFrame({\n",
    "    'Modela': ['Linear Regression', 'KNN Regressor', 'DecisionTree Regressor', 'RandomForest Regressor', 'XGBoost Regressor','SVR','Gradient Boost Regressor','Ada Boost Regressor'],\n",
    "    'Mean_MAE': nilai_mean_mae,\n",
    "    'Std_MAE': nilai_std_mae,\n",
    "    'Mean_MAPE': nilai_mean_mape,\n",
    "    'Std_MAPE': nilai_std_mape\n",
    "})\n",
    "\n",
    "Z.sort_values('Mean_MAPE',ascending=False)"
   ]
  },
  {
   "cell_type": "markdown",
   "metadata": {},
   "source": [
    "Dikarenakan Nilai Mean MAE dan Mean MAPE pada Random Forest dan XGBoost Regressor paling kecil, maka dapat disimpulkan bahwa kedua model ini adalah model terbaik.\n",
    "\n",
    "Selanjutnya, akan dilakukan prediksi pada test set dengan 2 benchmark model terbaik, yaitu XGBoost dan Random Forest. \n"
   ]
  },
  {
   "cell_type": "markdown",
   "metadata": {},
   "source": [
    "**Predict to Test Set with the Benchmark Model**"
   ]
  },
  {
   "cell_type": "markdown",
   "metadata": {},
   "source": [
    "Prediksi pada test set dengan menggunakan model Random Forest Regressor dan XGBoost Regressor"
   ]
  },
  {
   "cell_type": "code",
   "execution_count": 235,
   "metadata": {},
   "outputs": [
    {
     "data": {
      "text/html": [
       "<div>\n",
       "<style scoped>\n",
       "    .dataframe tbody tr th:only-of-type {\n",
       "        vertical-align: middle;\n",
       "    }\n",
       "\n",
       "    .dataframe tbody tr th {\n",
       "        vertical-align: top;\n",
       "    }\n",
       "\n",
       "    .dataframe thead th {\n",
       "        text-align: right;\n",
       "    }\n",
       "</style>\n",
       "<table border=\"1\" class=\"dataframe\">\n",
       "  <thead>\n",
       "    <tr style=\"text-align: right;\">\n",
       "      <th></th>\n",
       "      <th>MAE</th>\n",
       "      <th>MAPE</th>\n",
       "    </tr>\n",
       "  </thead>\n",
       "  <tbody>\n",
       "    <tr>\n",
       "      <th>Random Forest</th>\n",
       "      <td>12323.682750</td>\n",
       "      <td>0.176527</td>\n",
       "    </tr>\n",
       "    <tr>\n",
       "      <th>XGBoost Regressor</th>\n",
       "      <td>11574.599488</td>\n",
       "      <td>0.162942</td>\n",
       "    </tr>\n",
       "  </tbody>\n",
       "</table>\n",
       "</div>"
      ],
      "text/plain": [
       "                            MAE      MAPE\n",
       "Random Forest      12323.682750  0.176527\n",
       "XGBoost Regressor  11574.599488  0.162942"
      ]
     },
     "execution_count": 235,
     "metadata": {},
     "output_type": "execute_result"
    }
   ],
   "source": [
    "# Benchmark 2 model terbaik\n",
    "models = {\n",
    "'Random Forest' : RandomForestRegressor(random_state=2024),\n",
    "'XGBoost Regressor'           : XGBRegressor(random_state=2024,verbosity = 0)\n",
    "}\n",
    "\n",
    "\n",
    "score_mae = []\n",
    "score_mape = []\n",
    "\n",
    "# Prediksi pada test set\n",
    "for i in models:\n",
    "\n",
    "    model = Pipeline([\n",
    "        ('preprocessing', transformer),\n",
    "        ('modela', models[i])\n",
    "        ])\n",
    "\n",
    "    model.fit(x_train, y_train)\n",
    "    y_pred = model.predict(x_test)\n",
    "    score_mae.append(mean_absolute_error(y_test, y_pred))\n",
    "    score_mape.append(mean_absolute_percentage_error(y_test, y_pred))\n",
    "\n",
    "score_before_tuning = pd.DataFrame({ 'MAE': score_mae, 'MAPE': score_mape}, index=models.keys())\n",
    "score_before_tuning"
   ]
  },
  {
   "cell_type": "markdown",
   "metadata": {},
   "source": [
    "Ketika dilakukan prediksi pada test set, performa XGBoost secara keseluruhan lebih baik. Hal ini dapat dilihat dari nilai MAE dan MAPE yang lebih rendah dari Random Forest ."
   ]
  },
  {
   "cell_type": "markdown",
   "metadata": {},
   "source": [
    "**Hyperparameter Tuning**"
   ]
  },
  {
   "cell_type": "markdown",
   "metadata": {},
   "source": [
    "Karena model XGBoost memiliki performa yang lebih baik dari Random Forest, maka selanjutnya kita akan menggunakan model XGBoost ini sebagai model akhir. Pada tahap ini, kita akan melakukan hyperparameter tuning pada model XGBoost dengan harapan dapat meningkatkan performa model."
   ]
  },
  {
   "cell_type": "code",
   "execution_count": 236,
   "metadata": {},
   "outputs": [],
   "source": [
    "\n",
    "\n",
    "# Mendefinisikan steps pipeline \n",
    "pipeline = Pipeline(steps=[\n",
    "    ('preprocessor', transformer), \n",
    "    ('regressor', XGBRegressor(random_state=2024, verbosity = 0))\n",
    "])\n",
    "\n",
    "learning_rate =[0.001,0.01,0.1]\n",
    "n_estimators=[100,200,300]\n",
    "max_depth=[3,4,5]\n",
    "gamma=[0,1,2]\n",
    "subsample=[0.8,0.9,1.0]\n",
    "colsample_bytree=[0.8,0.9,1.0]\n",
    "\n",
    "# Mendefinisikan parameters \n",
    "parameters = {\n",
    "    'regressor__learning_rate' : learning_rate,\n",
    "    'regressor__n_estimators' : n_estimators,\n",
    "    'regressor__max_depth' :max_depth,\n",
    "    'regressor__gamma' : gamma,\n",
    "    'regressor__subsample' : subsample,\n",
    "    'regressor__colsample_bytree': colsample_bytree\n",
    "   \n",
    "}\n",
    "\n",
    "cvfold = KFold(n_splits = 5,shuffle = True, random_state = 2024)\n",
    "\n",
    "# Melakukan hyperparameter tuning menggunakan GridSearchCV\n",
    "grid_search = GridSearchCV(\n",
    "    estimator=pipeline,\n",
    "    param_grid=parameters,\n",
    "    cv=cvfold,\n",
    "    scoring=['neg_mean_absolute_error', 'neg_mean_absolute_percentage_error'],\n",
    "    n_jobs=-1,\n",
    "    refit='neg_mean_absolute_error',\n",
    ")\n",
    "\n",
    "\n"
   ]
  },
  {
   "cell_type": "code",
   "execution_count": 237,
   "metadata": {},
   "outputs": [
    {
     "data": {
      "text/html": [
       "<style>#sk-container-id-8 {color: black;}#sk-container-id-8 pre{padding: 0;}#sk-container-id-8 div.sk-toggleable {background-color: white;}#sk-container-id-8 label.sk-toggleable__label {cursor: pointer;display: block;width: 100%;margin-bottom: 0;padding: 0.3em;box-sizing: border-box;text-align: center;}#sk-container-id-8 label.sk-toggleable__label-arrow:before {content: \"▸\";float: left;margin-right: 0.25em;color: #696969;}#sk-container-id-8 label.sk-toggleable__label-arrow:hover:before {color: black;}#sk-container-id-8 div.sk-estimator:hover label.sk-toggleable__label-arrow:before {color: black;}#sk-container-id-8 div.sk-toggleable__content {max-height: 0;max-width: 0;overflow: hidden;text-align: left;background-color: #f0f8ff;}#sk-container-id-8 div.sk-toggleable__content pre {margin: 0.2em;color: black;border-radius: 0.25em;background-color: #f0f8ff;}#sk-container-id-8 input.sk-toggleable__control:checked~div.sk-toggleable__content {max-height: 200px;max-width: 100%;overflow: auto;}#sk-container-id-8 input.sk-toggleable__control:checked~label.sk-toggleable__label-arrow:before {content: \"▾\";}#sk-container-id-8 div.sk-estimator input.sk-toggleable__control:checked~label.sk-toggleable__label {background-color: #d4ebff;}#sk-container-id-8 div.sk-label input.sk-toggleable__control:checked~label.sk-toggleable__label {background-color: #d4ebff;}#sk-container-id-8 input.sk-hidden--visually {border: 0;clip: rect(1px 1px 1px 1px);clip: rect(1px, 1px, 1px, 1px);height: 1px;margin: -1px;overflow: hidden;padding: 0;position: absolute;width: 1px;}#sk-container-id-8 div.sk-estimator {font-family: monospace;background-color: #f0f8ff;border: 1px dotted black;border-radius: 0.25em;box-sizing: border-box;margin-bottom: 0.5em;}#sk-container-id-8 div.sk-estimator:hover {background-color: #d4ebff;}#sk-container-id-8 div.sk-parallel-item::after {content: \"\";width: 100%;border-bottom: 1px solid gray;flex-grow: 1;}#sk-container-id-8 div.sk-label:hover label.sk-toggleable__label {background-color: #d4ebff;}#sk-container-id-8 div.sk-serial::before {content: \"\";position: absolute;border-left: 1px solid gray;box-sizing: border-box;top: 0;bottom: 0;left: 50%;z-index: 0;}#sk-container-id-8 div.sk-serial {display: flex;flex-direction: column;align-items: center;background-color: white;padding-right: 0.2em;padding-left: 0.2em;position: relative;}#sk-container-id-8 div.sk-item {position: relative;z-index: 1;}#sk-container-id-8 div.sk-parallel {display: flex;align-items: stretch;justify-content: center;background-color: white;position: relative;}#sk-container-id-8 div.sk-item::before, #sk-container-id-8 div.sk-parallel-item::before {content: \"\";position: absolute;border-left: 1px solid gray;box-sizing: border-box;top: 0;bottom: 0;left: 50%;z-index: -1;}#sk-container-id-8 div.sk-parallel-item {display: flex;flex-direction: column;z-index: 1;position: relative;background-color: white;}#sk-container-id-8 div.sk-parallel-item:first-child::after {align-self: flex-end;width: 50%;}#sk-container-id-8 div.sk-parallel-item:last-child::after {align-self: flex-start;width: 50%;}#sk-container-id-8 div.sk-parallel-item:only-child::after {width: 0;}#sk-container-id-8 div.sk-dashed-wrapped {border: 1px dashed gray;margin: 0 0.4em 0.5em 0.4em;box-sizing: border-box;padding-bottom: 0.4em;background-color: white;}#sk-container-id-8 div.sk-label label {font-family: monospace;font-weight: bold;display: inline-block;line-height: 1.2em;}#sk-container-id-8 div.sk-label-container {text-align: center;}#sk-container-id-8 div.sk-container {/* jupyter's `normalize.less` sets `[hidden] { display: none; }` but bootstrap.min.css set `[hidden] { display: none !important; }` so we also need the `!important` here to be able to override the default hidden behavior on the sphinx rendered scikit-learn.org. See: https://github.com/scikit-learn/scikit-learn/issues/21755 */display: inline-block !important;position: relative;}#sk-container-id-8 div.sk-text-repr-fallback {display: none;}</style><div id=\"sk-container-id-8\" class=\"sk-top-container\"><div class=\"sk-text-repr-fallback\"><pre>GridSearchCV(cv=KFold(n_splits=5, random_state=2024, shuffle=True),\n",
       "             estimator=Pipeline(steps=[(&#x27;preprocessor&#x27;,\n",
       "                                        ColumnTransformer(remainder=&#x27;passthrough&#x27;,\n",
       "                                                          transformers=[(&#x27;scaler&#x27;,\n",
       "                                                                         RobustScaler(),\n",
       "                                                                         [&#x27;Year&#x27;,\n",
       "                                                                          &#x27;Engine_Size&#x27;,\n",
       "                                                                          &#x27;Mileage&#x27;]),\n",
       "                                                                        (&#x27;One &#x27;\n",
       "                                                                         &#x27;Hot&#x27;,\n",
       "                                                                         OneHotEncoder(),\n",
       "                                                                         [&#x27;Gear_Type&#x27;,\n",
       "                                                                          &#x27;Origin&#x27;,\n",
       "                                                                          &#x27;Options&#x27;]),\n",
       "                                                                        (&#x27;Binary&#x27;,\n",
       "                                                                         BinaryEncoder(),\n",
       "                                                                         [&#x27;Region&#x27;,\n",
       "                                                                          &#x27;Make&#x27;,\n",
       "                                                                          &#x27;Type&#x27;])])),\n",
       "                                       (&#x27;regressor...\n",
       "             n_jobs=-1,\n",
       "             param_grid={&#x27;regressor__colsample_bytree&#x27;: [0.8, 0.9, 1.0],\n",
       "                         &#x27;regressor__gamma&#x27;: [0, 1, 2],\n",
       "                         &#x27;regressor__learning_rate&#x27;: [0.001, 0.01, 0.1],\n",
       "                         &#x27;regressor__max_depth&#x27;: [3, 4, 5],\n",
       "                         &#x27;regressor__n_estimators&#x27;: [100, 200, 300],\n",
       "                         &#x27;regressor__subsample&#x27;: [0.8, 0.9, 1.0]},\n",
       "             refit=&#x27;neg_mean_absolute_error&#x27;,\n",
       "             scoring=[&#x27;neg_mean_absolute_error&#x27;,\n",
       "                      &#x27;neg_mean_absolute_percentage_error&#x27;])</pre><b>In a Jupyter environment, please rerun this cell to show the HTML representation or trust the notebook. <br />On GitHub, the HTML representation is unable to render, please try loading this page with nbviewer.org.</b></div><div class=\"sk-container\" hidden><div class=\"sk-item sk-dashed-wrapped\"><div class=\"sk-label-container\"><div class=\"sk-label sk-toggleable\"><input class=\"sk-toggleable__control sk-hidden--visually\" id=\"sk-estimator-id-82\" type=\"checkbox\" ><label for=\"sk-estimator-id-82\" class=\"sk-toggleable__label sk-toggleable__label-arrow\">GridSearchCV</label><div class=\"sk-toggleable__content\"><pre>GridSearchCV(cv=KFold(n_splits=5, random_state=2024, shuffle=True),\n",
       "             estimator=Pipeline(steps=[(&#x27;preprocessor&#x27;,\n",
       "                                        ColumnTransformer(remainder=&#x27;passthrough&#x27;,\n",
       "                                                          transformers=[(&#x27;scaler&#x27;,\n",
       "                                                                         RobustScaler(),\n",
       "                                                                         [&#x27;Year&#x27;,\n",
       "                                                                          &#x27;Engine_Size&#x27;,\n",
       "                                                                          &#x27;Mileage&#x27;]),\n",
       "                                                                        (&#x27;One &#x27;\n",
       "                                                                         &#x27;Hot&#x27;,\n",
       "                                                                         OneHotEncoder(),\n",
       "                                                                         [&#x27;Gear_Type&#x27;,\n",
       "                                                                          &#x27;Origin&#x27;,\n",
       "                                                                          &#x27;Options&#x27;]),\n",
       "                                                                        (&#x27;Binary&#x27;,\n",
       "                                                                         BinaryEncoder(),\n",
       "                                                                         [&#x27;Region&#x27;,\n",
       "                                                                          &#x27;Make&#x27;,\n",
       "                                                                          &#x27;Type&#x27;])])),\n",
       "                                       (&#x27;regressor...\n",
       "             n_jobs=-1,\n",
       "             param_grid={&#x27;regressor__colsample_bytree&#x27;: [0.8, 0.9, 1.0],\n",
       "                         &#x27;regressor__gamma&#x27;: [0, 1, 2],\n",
       "                         &#x27;regressor__learning_rate&#x27;: [0.001, 0.01, 0.1],\n",
       "                         &#x27;regressor__max_depth&#x27;: [3, 4, 5],\n",
       "                         &#x27;regressor__n_estimators&#x27;: [100, 200, 300],\n",
       "                         &#x27;regressor__subsample&#x27;: [0.8, 0.9, 1.0]},\n",
       "             refit=&#x27;neg_mean_absolute_error&#x27;,\n",
       "             scoring=[&#x27;neg_mean_absolute_error&#x27;,\n",
       "                      &#x27;neg_mean_absolute_percentage_error&#x27;])</pre></div></div></div><div class=\"sk-parallel\"><div class=\"sk-parallel-item\"><div class=\"sk-item\"><div class=\"sk-label-container\"><div class=\"sk-label sk-toggleable\"><input class=\"sk-toggleable__control sk-hidden--visually\" id=\"sk-estimator-id-83\" type=\"checkbox\" ><label for=\"sk-estimator-id-83\" class=\"sk-toggleable__label sk-toggleable__label-arrow\">estimator: Pipeline</label><div class=\"sk-toggleable__content\"><pre>Pipeline(steps=[(&#x27;preprocessor&#x27;,\n",
       "                 ColumnTransformer(remainder=&#x27;passthrough&#x27;,\n",
       "                                   transformers=[(&#x27;scaler&#x27;, RobustScaler(),\n",
       "                                                  [&#x27;Year&#x27;, &#x27;Engine_Size&#x27;,\n",
       "                                                   &#x27;Mileage&#x27;]),\n",
       "                                                 (&#x27;One Hot&#x27;, OneHotEncoder(),\n",
       "                                                  [&#x27;Gear_Type&#x27;, &#x27;Origin&#x27;,\n",
       "                                                   &#x27;Options&#x27;]),\n",
       "                                                 (&#x27;Binary&#x27;, BinaryEncoder(),\n",
       "                                                  [&#x27;Region&#x27;, &#x27;Make&#x27;,\n",
       "                                                   &#x27;Type&#x27;])])),\n",
       "                (&#x27;regressor&#x27;,\n",
       "                 XGBRegressor(base_score=None, booster=None, callbacks=None,\n",
       "                              colsample_bylevel=...\n",
       "                              feature_types=None, gamma=None, grow_policy=None,\n",
       "                              importance_type=None,\n",
       "                              interaction_constraints=None, learning_rate=None,\n",
       "                              max_bin=None, max_cat_threshold=None,\n",
       "                              max_cat_to_onehot=None, max_delta_step=None,\n",
       "                              max_depth=None, max_leaves=None,\n",
       "                              min_child_weight=None, missing=nan,\n",
       "                              monotone_constraints=None, multi_strategy=None,\n",
       "                              n_estimators=None, n_jobs=None,\n",
       "                              num_parallel_tree=None, random_state=2024, ...))])</pre></div></div></div><div class=\"sk-serial\"><div class=\"sk-item\"><div class=\"sk-serial\"><div class=\"sk-item sk-dashed-wrapped\"><div class=\"sk-label-container\"><div class=\"sk-label sk-toggleable\"><input class=\"sk-toggleable__control sk-hidden--visually\" id=\"sk-estimator-id-84\" type=\"checkbox\" ><label for=\"sk-estimator-id-84\" class=\"sk-toggleable__label sk-toggleable__label-arrow\">preprocessor: ColumnTransformer</label><div class=\"sk-toggleable__content\"><pre>ColumnTransformer(remainder=&#x27;passthrough&#x27;,\n",
       "                  transformers=[(&#x27;scaler&#x27;, RobustScaler(),\n",
       "                                 [&#x27;Year&#x27;, &#x27;Engine_Size&#x27;, &#x27;Mileage&#x27;]),\n",
       "                                (&#x27;One Hot&#x27;, OneHotEncoder(),\n",
       "                                 [&#x27;Gear_Type&#x27;, &#x27;Origin&#x27;, &#x27;Options&#x27;]),\n",
       "                                (&#x27;Binary&#x27;, BinaryEncoder(),\n",
       "                                 [&#x27;Region&#x27;, &#x27;Make&#x27;, &#x27;Type&#x27;])])</pre></div></div></div><div class=\"sk-parallel\"><div class=\"sk-parallel-item\"><div class=\"sk-item\"><div class=\"sk-label-container\"><div class=\"sk-label sk-toggleable\"><input class=\"sk-toggleable__control sk-hidden--visually\" id=\"sk-estimator-id-85\" type=\"checkbox\" ><label for=\"sk-estimator-id-85\" class=\"sk-toggleable__label sk-toggleable__label-arrow\">scaler</label><div class=\"sk-toggleable__content\"><pre>[&#x27;Year&#x27;, &#x27;Engine_Size&#x27;, &#x27;Mileage&#x27;]</pre></div></div></div><div class=\"sk-serial\"><div class=\"sk-item\"><div class=\"sk-estimator sk-toggleable\"><input class=\"sk-toggleable__control sk-hidden--visually\" id=\"sk-estimator-id-86\" type=\"checkbox\" ><label for=\"sk-estimator-id-86\" class=\"sk-toggleable__label sk-toggleable__label-arrow\">RobustScaler</label><div class=\"sk-toggleable__content\"><pre>RobustScaler()</pre></div></div></div></div></div></div><div class=\"sk-parallel-item\"><div class=\"sk-item\"><div class=\"sk-label-container\"><div class=\"sk-label sk-toggleable\"><input class=\"sk-toggleable__control sk-hidden--visually\" id=\"sk-estimator-id-87\" type=\"checkbox\" ><label for=\"sk-estimator-id-87\" class=\"sk-toggleable__label sk-toggleable__label-arrow\">One Hot</label><div class=\"sk-toggleable__content\"><pre>[&#x27;Gear_Type&#x27;, &#x27;Origin&#x27;, &#x27;Options&#x27;]</pre></div></div></div><div class=\"sk-serial\"><div class=\"sk-item\"><div class=\"sk-estimator sk-toggleable\"><input class=\"sk-toggleable__control sk-hidden--visually\" id=\"sk-estimator-id-88\" type=\"checkbox\" ><label for=\"sk-estimator-id-88\" class=\"sk-toggleable__label sk-toggleable__label-arrow\">OneHotEncoder</label><div class=\"sk-toggleable__content\"><pre>OneHotEncoder()</pre></div></div></div></div></div></div><div class=\"sk-parallel-item\"><div class=\"sk-item\"><div class=\"sk-label-container\"><div class=\"sk-label sk-toggleable\"><input class=\"sk-toggleable__control sk-hidden--visually\" id=\"sk-estimator-id-89\" type=\"checkbox\" ><label for=\"sk-estimator-id-89\" class=\"sk-toggleable__label sk-toggleable__label-arrow\">Binary</label><div class=\"sk-toggleable__content\"><pre>[&#x27;Region&#x27;, &#x27;Make&#x27;, &#x27;Type&#x27;]</pre></div></div></div><div class=\"sk-serial\"><div class=\"sk-item\"><div class=\"sk-estimator sk-toggleable\"><input class=\"sk-toggleable__control sk-hidden--visually\" id=\"sk-estimator-id-90\" type=\"checkbox\" ><label for=\"sk-estimator-id-90\" class=\"sk-toggleable__label sk-toggleable__label-arrow\">BinaryEncoder</label><div class=\"sk-toggleable__content\"><pre>BinaryEncoder()</pre></div></div></div></div></div></div><div class=\"sk-parallel-item\"><div class=\"sk-item\"><div class=\"sk-label-container\"><div class=\"sk-label sk-toggleable\"><input class=\"sk-toggleable__control sk-hidden--visually\" id=\"sk-estimator-id-91\" type=\"checkbox\" ><label for=\"sk-estimator-id-91\" class=\"sk-toggleable__label sk-toggleable__label-arrow\">remainder</label><div class=\"sk-toggleable__content\"><pre>[]</pre></div></div></div><div class=\"sk-serial\"><div class=\"sk-item\"><div class=\"sk-estimator sk-toggleable\"><input class=\"sk-toggleable__control sk-hidden--visually\" id=\"sk-estimator-id-92\" type=\"checkbox\" ><label for=\"sk-estimator-id-92\" class=\"sk-toggleable__label sk-toggleable__label-arrow\">passthrough</label><div class=\"sk-toggleable__content\"><pre>passthrough</pre></div></div></div></div></div></div></div></div><div class=\"sk-item\"><div class=\"sk-estimator sk-toggleable\"><input class=\"sk-toggleable__control sk-hidden--visually\" id=\"sk-estimator-id-93\" type=\"checkbox\" ><label for=\"sk-estimator-id-93\" class=\"sk-toggleable__label sk-toggleable__label-arrow\">XGBRegressor</label><div class=\"sk-toggleable__content\"><pre>XGBRegressor(base_score=None, booster=None, callbacks=None,\n",
       "             colsample_bylevel=None, colsample_bynode=None,\n",
       "             colsample_bytree=None, device=None, early_stopping_rounds=None,\n",
       "             enable_categorical=False, eval_metric=None, feature_types=None,\n",
       "             gamma=None, grow_policy=None, importance_type=None,\n",
       "             interaction_constraints=None, learning_rate=None, max_bin=None,\n",
       "             max_cat_threshold=None, max_cat_to_onehot=None,\n",
       "             max_delta_step=None, max_depth=None, max_leaves=None,\n",
       "             min_child_weight=None, missing=nan, monotone_constraints=None,\n",
       "             multi_strategy=None, n_estimators=None, n_jobs=None,\n",
       "             num_parallel_tree=None, random_state=2024, ...)</pre></div></div></div></div></div></div></div></div></div></div></div></div>"
      ],
      "text/plain": [
       "GridSearchCV(cv=KFold(n_splits=5, random_state=2024, shuffle=True),\n",
       "             estimator=Pipeline(steps=[('preprocessor',\n",
       "                                        ColumnTransformer(remainder='passthrough',\n",
       "                                                          transformers=[('scaler',\n",
       "                                                                         RobustScaler(),\n",
       "                                                                         ['Year',\n",
       "                                                                          'Engine_Size',\n",
       "                                                                          'Mileage']),\n",
       "                                                                        ('One '\n",
       "                                                                         'Hot',\n",
       "                                                                         OneHotEncoder(),\n",
       "                                                                         ['Gear_Type',\n",
       "                                                                          'Origin',\n",
       "                                                                          'Options']),\n",
       "                                                                        ('Binary',\n",
       "                                                                         BinaryEncoder(),\n",
       "                                                                         ['Region',\n",
       "                                                                          'Make',\n",
       "                                                                          'Type'])])),\n",
       "                                       ('regressor...\n",
       "             n_jobs=-1,\n",
       "             param_grid={'regressor__colsample_bytree': [0.8, 0.9, 1.0],\n",
       "                         'regressor__gamma': [0, 1, 2],\n",
       "                         'regressor__learning_rate': [0.001, 0.01, 0.1],\n",
       "                         'regressor__max_depth': [3, 4, 5],\n",
       "                         'regressor__n_estimators': [100, 200, 300],\n",
       "                         'regressor__subsample': [0.8, 0.9, 1.0]},\n",
       "             refit='neg_mean_absolute_error',\n",
       "             scoring=['neg_mean_absolute_error',\n",
       "                      'neg_mean_absolute_percentage_error'])"
      ]
     },
     "execution_count": 237,
     "metadata": {},
     "output_type": "execute_result"
    }
   ],
   "source": [
    "# Fit model XGBoost\n",
    "grid_search.fit(x_train, y_train)"
   ]
  },
  {
   "cell_type": "code",
   "execution_count": 238,
   "metadata": {},
   "outputs": [
    {
     "data": {
      "text/html": [
       "<div>\n",
       "<style scoped>\n",
       "    .dataframe tbody tr th:only-of-type {\n",
       "        vertical-align: middle;\n",
       "    }\n",
       "\n",
       "    .dataframe tbody tr th {\n",
       "        vertical-align: top;\n",
       "    }\n",
       "\n",
       "    .dataframe thead th {\n",
       "        text-align: right;\n",
       "    }\n",
       "</style>\n",
       "<table border=\"1\" class=\"dataframe\">\n",
       "  <thead>\n",
       "    <tr style=\"text-align: right;\">\n",
       "      <th></th>\n",
       "      <th>mean_fit_time</th>\n",
       "      <th>std_fit_time</th>\n",
       "      <th>mean_score_time</th>\n",
       "      <th>std_score_time</th>\n",
       "      <th>param_regressor__colsample_bytree</th>\n",
       "      <th>param_regressor__gamma</th>\n",
       "      <th>param_regressor__learning_rate</th>\n",
       "      <th>param_regressor__max_depth</th>\n",
       "      <th>param_regressor__n_estimators</th>\n",
       "      <th>param_regressor__subsample</th>\n",
       "      <th>...</th>\n",
       "      <th>std_test_neg_mean_absolute_error</th>\n",
       "      <th>rank_test_neg_mean_absolute_error</th>\n",
       "      <th>split0_test_neg_mean_absolute_percentage_error</th>\n",
       "      <th>split1_test_neg_mean_absolute_percentage_error</th>\n",
       "      <th>split2_test_neg_mean_absolute_percentage_error</th>\n",
       "      <th>split3_test_neg_mean_absolute_percentage_error</th>\n",
       "      <th>split4_test_neg_mean_absolute_percentage_error</th>\n",
       "      <th>mean_test_neg_mean_absolute_percentage_error</th>\n",
       "      <th>std_test_neg_mean_absolute_percentage_error</th>\n",
       "      <th>rank_test_neg_mean_absolute_percentage_error</th>\n",
       "    </tr>\n",
       "  </thead>\n",
       "  <tbody>\n",
       "    <tr>\n",
       "      <th>321</th>\n",
       "      <td>0.443735</td>\n",
       "      <td>0.023650</td>\n",
       "      <td>0.029623</td>\n",
       "      <td>0.003201</td>\n",
       "      <td>0.9</td>\n",
       "      <td>0</td>\n",
       "      <td>0.1</td>\n",
       "      <td>5</td>\n",
       "      <td>300</td>\n",
       "      <td>0.8</td>\n",
       "      <td>...</td>\n",
       "      <td>667.000142</td>\n",
       "      <td>1</td>\n",
       "      <td>-0.184914</td>\n",
       "      <td>-0.173106</td>\n",
       "      <td>-0.174667</td>\n",
       "      <td>-0.171547</td>\n",
       "      <td>-0.171076</td>\n",
       "      <td>-0.175062</td>\n",
       "      <td>0.005085</td>\n",
       "      <td>1</td>\n",
       "    </tr>\n",
       "    <tr>\n",
       "      <th>402</th>\n",
       "      <td>0.456521</td>\n",
       "      <td>0.048391</td>\n",
       "      <td>0.027635</td>\n",
       "      <td>0.003844</td>\n",
       "      <td>0.9</td>\n",
       "      <td>1</td>\n",
       "      <td>0.1</td>\n",
       "      <td>5</td>\n",
       "      <td>300</td>\n",
       "      <td>0.8</td>\n",
       "      <td>...</td>\n",
       "      <td>667.000142</td>\n",
       "      <td>1</td>\n",
       "      <td>-0.184914</td>\n",
       "      <td>-0.173106</td>\n",
       "      <td>-0.174667</td>\n",
       "      <td>-0.171547</td>\n",
       "      <td>-0.171076</td>\n",
       "      <td>-0.175062</td>\n",
       "      <td>0.005085</td>\n",
       "      <td>1</td>\n",
       "    </tr>\n",
       "    <tr>\n",
       "      <th>483</th>\n",
       "      <td>0.455656</td>\n",
       "      <td>0.020364</td>\n",
       "      <td>0.032436</td>\n",
       "      <td>0.007641</td>\n",
       "      <td>0.9</td>\n",
       "      <td>2</td>\n",
       "      <td>0.1</td>\n",
       "      <td>5</td>\n",
       "      <td>300</td>\n",
       "      <td>0.8</td>\n",
       "      <td>...</td>\n",
       "      <td>667.000142</td>\n",
       "      <td>1</td>\n",
       "      <td>-0.184914</td>\n",
       "      <td>-0.173106</td>\n",
       "      <td>-0.174667</td>\n",
       "      <td>-0.171547</td>\n",
       "      <td>-0.171076</td>\n",
       "      <td>-0.175062</td>\n",
       "      <td>0.005085</td>\n",
       "      <td>1</td>\n",
       "    </tr>\n",
       "    <tr>\n",
       "      <th>79</th>\n",
       "      <td>0.423049</td>\n",
       "      <td>0.015885</td>\n",
       "      <td>0.034342</td>\n",
       "      <td>0.007757</td>\n",
       "      <td>0.8</td>\n",
       "      <td>0</td>\n",
       "      <td>0.1</td>\n",
       "      <td>5</td>\n",
       "      <td>300</td>\n",
       "      <td>0.9</td>\n",
       "      <td>...</td>\n",
       "      <td>771.566758</td>\n",
       "      <td>4</td>\n",
       "      <td>-0.185191</td>\n",
       "      <td>-0.177513</td>\n",
       "      <td>-0.176918</td>\n",
       "      <td>-0.168555</td>\n",
       "      <td>-0.170174</td>\n",
       "      <td>-0.175670</td>\n",
       "      <td>0.005940</td>\n",
       "      <td>4</td>\n",
       "    </tr>\n",
       "    <tr>\n",
       "      <th>160</th>\n",
       "      <td>0.443274</td>\n",
       "      <td>0.027249</td>\n",
       "      <td>0.027945</td>\n",
       "      <td>0.003822</td>\n",
       "      <td>0.8</td>\n",
       "      <td>1</td>\n",
       "      <td>0.1</td>\n",
       "      <td>5</td>\n",
       "      <td>300</td>\n",
       "      <td>0.9</td>\n",
       "      <td>...</td>\n",
       "      <td>771.566758</td>\n",
       "      <td>4</td>\n",
       "      <td>-0.185191</td>\n",
       "      <td>-0.177513</td>\n",
       "      <td>-0.176918</td>\n",
       "      <td>-0.168555</td>\n",
       "      <td>-0.170174</td>\n",
       "      <td>-0.175670</td>\n",
       "      <td>0.005940</td>\n",
       "      <td>4</td>\n",
       "    </tr>\n",
       "  </tbody>\n",
       "</table>\n",
       "<p>5 rows × 27 columns</p>\n",
       "</div>"
      ],
      "text/plain": [
       "     mean_fit_time  std_fit_time  mean_score_time  std_score_time  \\\n",
       "321       0.443735      0.023650         0.029623        0.003201   \n",
       "402       0.456521      0.048391         0.027635        0.003844   \n",
       "483       0.455656      0.020364         0.032436        0.007641   \n",
       "79        0.423049      0.015885         0.034342        0.007757   \n",
       "160       0.443274      0.027249         0.027945        0.003822   \n",
       "\n",
       "    param_regressor__colsample_bytree param_regressor__gamma  \\\n",
       "321                               0.9                      0   \n",
       "402                               0.9                      1   \n",
       "483                               0.9                      2   \n",
       "79                                0.8                      0   \n",
       "160                               0.8                      1   \n",
       "\n",
       "    param_regressor__learning_rate param_regressor__max_depth  \\\n",
       "321                            0.1                          5   \n",
       "402                            0.1                          5   \n",
       "483                            0.1                          5   \n",
       "79                             0.1                          5   \n",
       "160                            0.1                          5   \n",
       "\n",
       "    param_regressor__n_estimators param_regressor__subsample  ...  \\\n",
       "321                           300                        0.8  ...   \n",
       "402                           300                        0.8  ...   \n",
       "483                           300                        0.8  ...   \n",
       "79                            300                        0.9  ...   \n",
       "160                           300                        0.9  ...   \n",
       "\n",
       "    std_test_neg_mean_absolute_error  rank_test_neg_mean_absolute_error  \\\n",
       "321                       667.000142                                  1   \n",
       "402                       667.000142                                  1   \n",
       "483                       667.000142                                  1   \n",
       "79                        771.566758                                  4   \n",
       "160                       771.566758                                  4   \n",
       "\n",
       "     split0_test_neg_mean_absolute_percentage_error  \\\n",
       "321                                       -0.184914   \n",
       "402                                       -0.184914   \n",
       "483                                       -0.184914   \n",
       "79                                        -0.185191   \n",
       "160                                       -0.185191   \n",
       "\n",
       "     split1_test_neg_mean_absolute_percentage_error  \\\n",
       "321                                       -0.173106   \n",
       "402                                       -0.173106   \n",
       "483                                       -0.173106   \n",
       "79                                        -0.177513   \n",
       "160                                       -0.177513   \n",
       "\n",
       "     split2_test_neg_mean_absolute_percentage_error  \\\n",
       "321                                       -0.174667   \n",
       "402                                       -0.174667   \n",
       "483                                       -0.174667   \n",
       "79                                        -0.176918   \n",
       "160                                       -0.176918   \n",
       "\n",
       "     split3_test_neg_mean_absolute_percentage_error  \\\n",
       "321                                       -0.171547   \n",
       "402                                       -0.171547   \n",
       "483                                       -0.171547   \n",
       "79                                        -0.168555   \n",
       "160                                       -0.168555   \n",
       "\n",
       "     split4_test_neg_mean_absolute_percentage_error  \\\n",
       "321                                       -0.171076   \n",
       "402                                       -0.171076   \n",
       "483                                       -0.171076   \n",
       "79                                        -0.170174   \n",
       "160                                       -0.170174   \n",
       "\n",
       "     mean_test_neg_mean_absolute_percentage_error  \\\n",
       "321                                     -0.175062   \n",
       "402                                     -0.175062   \n",
       "483                                     -0.175062   \n",
       "79                                      -0.175670   \n",
       "160                                     -0.175670   \n",
       "\n",
       "     std_test_neg_mean_absolute_percentage_error  \\\n",
       "321                                     0.005085   \n",
       "402                                     0.005085   \n",
       "483                                     0.005085   \n",
       "79                                      0.005940   \n",
       "160                                     0.005940   \n",
       "\n",
       "     rank_test_neg_mean_absolute_percentage_error  \n",
       "321                                             1  \n",
       "402                                             1  \n",
       "483                                             1  \n",
       "79                                              4  \n",
       "160                                             4  \n",
       "\n",
       "[5 rows x 27 columns]"
      ]
     },
     "execution_count": 238,
     "metadata": {},
     "output_type": "execute_result"
    }
   ],
   "source": [
    "# Melihat hasil tuning dalam bentuk dataframe. Diurutkan berdasarkan MAE & MAPE\n",
    "pd.DataFrame(grid_search.cv_results_).sort_values(by=['rank_test_neg_mean_absolute_error', 'rank_test_neg_mean_absolute_percentage_error']).head()"
   ]
  },
  {
   "cell_type": "code",
   "execution_count": 239,
   "metadata": {},
   "outputs": [
    {
     "name": "stdout",
     "output_type": "stream",
     "text": [
      "XGBoost\n",
      "Best Score: -12282.851134702762\n",
      "Best Parameters: {'regressor__colsample_bytree': 0.9, 'regressor__gamma': 0, 'regressor__learning_rate': 0.1, 'regressor__max_depth': 5, 'regressor__n_estimators': 300, 'regressor__subsample': 0.8}\n"
     ]
    }
   ],
   "source": [
    "# Print nilai Terbaik\n",
    "print(\"XGBoost\")\n",
    "print(\"Best Score:\", grid_search.best_score_)\n",
    "\n",
    "# Mendapatkan parameter terbaik\n",
    "best_params = grid_search.best_params_ \n",
    "\n",
    "# Print best parameters\n",
    "print(\"Best Parameters:\", best_params)"
   ]
  },
  {
   "cell_type": "markdown",
   "metadata": {},
   "source": [
    "**Predict to Test Set with the Tuned Model**\n",
    "\n",
    "Melakukan prediksi pada test set dengan menggunakan model XGBoost dan hyperparameter terpilih."
   ]
  },
  {
   "cell_type": "code",
   "execution_count": 240,
   "metadata": {},
   "outputs": [
    {
     "data": {
      "text/html": [
       "<div>\n",
       "<style scoped>\n",
       "    .dataframe tbody tr th:only-of-type {\n",
       "        vertical-align: middle;\n",
       "    }\n",
       "\n",
       "    .dataframe tbody tr th {\n",
       "        vertical-align: top;\n",
       "    }\n",
       "\n",
       "    .dataframe thead th {\n",
       "        text-align: right;\n",
       "    }\n",
       "</style>\n",
       "<table border=\"1\" class=\"dataframe\">\n",
       "  <thead>\n",
       "    <tr style=\"text-align: right;\">\n",
       "      <th></th>\n",
       "      <th>MAE</th>\n",
       "      <th>MAPE</th>\n",
       "    </tr>\n",
       "  </thead>\n",
       "  <tbody>\n",
       "    <tr>\n",
       "      <th>XGBoost Regressor</th>\n",
       "      <td>11119.616231</td>\n",
       "      <td>0.159739</td>\n",
       "    </tr>\n",
       "  </tbody>\n",
       "</table>\n",
       "</div>"
      ],
      "text/plain": [
       "                            MAE      MAPE\n",
       "XGBoost Regressor  11119.616231  0.159739"
      ]
     },
     "execution_count": 240,
     "metadata": {},
     "output_type": "execute_result"
    }
   ],
   "source": [
    "# Model XGBoost\n",
    "model = {'XGBoost Regressor': XGBRegressor(random_state=2024, verbosity = 0)}\n",
    "\n",
    "# Define model terhadap estimator terbaik\n",
    "best_model = grid_search.best_estimator_\n",
    "\n",
    "# Fitting model\n",
    "grid_search.fit(x_train, y_train)\n",
    "\n",
    "# Predict test set\n",
    "y_pred_xgb_tuning = best_model.predict(x_test)\n",
    "\n",
    "# Simpan nilai metrics MAE & MAPE setelah tuning\n",
    "mae_xgb_tuning = mean_absolute_error(y_test, y_pred_xgb_tuning)\n",
    "mape_xgb_tuning = mean_absolute_percentage_error(y_test, y_pred_xgb_tuning)\n",
    "\n",
    "score_after_tuning = pd.DataFrame({ 'MAE': mae_xgb_tuning, 'MAPE': mape_xgb_tuning}, index=model.keys())\n",
    "score_after_tuning\n",
    "\n",
    "\n",
    "\n"
   ]
  },
  {
   "cell_type": "markdown",
   "metadata": {},
   "source": [
    "**Performance Comparison**\n",
    "\n",
    "Perbandingan performa model XGBoost sebelum dan sesudah dilakukan hyperparameter tuning."
   ]
  },
  {
   "cell_type": "code",
   "execution_count": 241,
   "metadata": {},
   "outputs": [
    {
     "data": {
      "text/html": [
       "<div>\n",
       "<style scoped>\n",
       "    .dataframe tbody tr th:only-of-type {\n",
       "        vertical-align: middle;\n",
       "    }\n",
       "\n",
       "    .dataframe tbody tr th {\n",
       "        vertical-align: top;\n",
       "    }\n",
       "\n",
       "    .dataframe thead th {\n",
       "        text-align: right;\n",
       "    }\n",
       "</style>\n",
       "<table border=\"1\" class=\"dataframe\">\n",
       "  <thead>\n",
       "    <tr style=\"text-align: right;\">\n",
       "      <th></th>\n",
       "      <th>MAE</th>\n",
       "      <th>MAPE</th>\n",
       "    </tr>\n",
       "  </thead>\n",
       "  <tbody>\n",
       "    <tr>\n",
       "      <th>XGBoost Regressor</th>\n",
       "      <td>11574.599488</td>\n",
       "      <td>0.162942</td>\n",
       "    </tr>\n",
       "  </tbody>\n",
       "</table>\n",
       "</div>"
      ],
      "text/plain": [
       "                            MAE      MAPE\n",
       "XGBoost Regressor  11574.599488  0.162942"
      ]
     },
     "execution_count": 241,
     "metadata": {},
     "output_type": "execute_result"
    }
   ],
   "source": [
    "# Sebelum hyperparameter tuning\n",
    "pd.DataFrame(score_before_tuning.loc['XGBoost Regressor']).T"
   ]
  },
  {
   "cell_type": "code",
   "execution_count": 242,
   "metadata": {},
   "outputs": [
    {
     "data": {
      "text/html": [
       "<div>\n",
       "<style scoped>\n",
       "    .dataframe tbody tr th:only-of-type {\n",
       "        vertical-align: middle;\n",
       "    }\n",
       "\n",
       "    .dataframe tbody tr th {\n",
       "        vertical-align: top;\n",
       "    }\n",
       "\n",
       "    .dataframe thead th {\n",
       "        text-align: right;\n",
       "    }\n",
       "</style>\n",
       "<table border=\"1\" class=\"dataframe\">\n",
       "  <thead>\n",
       "    <tr style=\"text-align: right;\">\n",
       "      <th></th>\n",
       "      <th>MAE</th>\n",
       "      <th>MAPE</th>\n",
       "    </tr>\n",
       "  </thead>\n",
       "  <tbody>\n",
       "    <tr>\n",
       "      <th>XGBoost Regressor</th>\n",
       "      <td>11119.616231</td>\n",
       "      <td>0.159739</td>\n",
       "    </tr>\n",
       "  </tbody>\n",
       "</table>\n",
       "</div>"
      ],
      "text/plain": [
       "                            MAE      MAPE\n",
       "XGBoost Regressor  11119.616231  0.159739"
      ]
     },
     "execution_count": 242,
     "metadata": {},
     "output_type": "execute_result"
    }
   ],
   "source": [
    "# Setelah hyperparameter tuning\n",
    "score_after_tuning "
   ]
  },
  {
   "cell_type": "markdown",
   "metadata": {},
   "source": [
    "Model mengalami peningkatan performa (nilai MAE & MAPE sedikit berkurang) setelah dilakukannya hyperparameter tuning.\n",
    "- MAE & MAPE sebelum tuning: 11.574, 0.162\n",
    "- MAE & MAPE setelahh tuning: 11.119, 0.159"
   ]
  },
  {
   "cell_type": "code",
   "execution_count": 243,
   "metadata": {},
   "outputs": [
    {
     "data": {
      "image/png": "[encoded data removed]",
      "text/plain": [
       "<Figure size 1000x500 with 1 Axes>"
      ]
     },
     "metadata": {},
     "output_type": "display_data"
    }
   ],
   "source": [
    "plt.figure(figsize=(10, 5))\n",
    "plot = sns.scatterplot(x=y_test, y=y_pred).set(title='Aktual vs. Harga Prediksi', \n",
    "                                               xlabel='Harga Aktual ', \n",
    "                                               ylabel='Harga Prediksi');\n",
    "\n",
    "sns.lineplot(x=list(np.arange(0,200000)), y=list(np.arange(0,200000)), color='red',label='Garis Ideal')\n",
    "plt.legend()\n",
    "plt.show()"
   ]
  },
  {
   "cell_type": "markdown",
   "metadata": {},
   "source": [
    "Dari plot di atas dapat dilihat bahwa kebanyakan prediksi cukup dekat dengan garis ideal, walaupun ada beberapa prediksi yang jauh dari garis, terutama di harga yang tinggi(75.000) ke atas . Dengan nilai MAPE di 15.9%, jika melihat dari sumber, dapat disimpulkan termasuk ke dalam kategori model bagus.\n",
    "\n",
    "[Sumber](https://stephenallwright.com/good-mape-score/)"
   ]
  },
  {
   "cell_type": "markdown",
   "metadata": {},
   "source": [
    "### **Conclusion** "
   ]
  },
  {
   "cell_type": "markdown",
   "metadata": {},
   "source": [
    "\n",
    "- Metrik evaluasi yang digunakan pada model adalah nilai MAE & MAPE. Jika ditinjau dari nilai MAPE yang dihasilkan oleh model setelah dilakukan hyperparameter tuning, yaitu sebesar 15.97%, kita dapat menyimpulkan bahwa bila nanti model yang kita buat ini digunakan untuk memperkirakan harga jual mobil bekas pada rentang nilai seperti yang dilatih terhadap model (maksimal harga 182.500 SAR), maka perkiraan harganya rata-rata akan meleset kurang lebih sebesar 15.97% dari harga seharusnya. \n",
    "\n",
    "- Model XGBoost adalah model terbaik dimana nilai MAE dan MAPE sebelum tuning di sekitar 11.574 dan 16.29 %, setelah melalui proses hyperparameter tuning, dapat ditingkatkan ke sekitar 11.119 dan 15.97 %\n",
    "\n",
    "- Best Parameters:\n",
    "colsample_bytree: 0.9,\n",
    "gamma: 0, \n",
    "learning_rate': 0.1,\n",
    "max_depth': 5,\n",
    "n_estimators': 300, \n",
    "subsample': 0.8\n",
    " \n",
    " - Tetapi, tidak menutup kemungkinan juga ada prediksi yang meleset karena masih adanya sedikit bias yang dihasilkan model bila dilihat antara harga aktual dan prediksi. Bias yang dihasilkan oleh model ini dikarenakan oleh terbatasnya fitur pada dataset yang bisa merepresentasikan mobil seperti tipe body mobil(hatchback,SUV,Sedan dll) dan fitur mobil(parking sensor, camera, hill start assist dll).\n",
    " "
   ]
  },
  {
   "cell_type": "markdown",
   "metadata": {},
   "source": [
    "### **Recommendation**"
   ]
  },
  {
   "cell_type": "markdown",
   "metadata": {},
   "source": [
    "  \n",
    "Berikut poin-poin yang dapat dilakukan untuk mengembangkan model agar lebih baik lagi, seperti:\n",
    "- Jika memungkinkan, penambahan fitur yang lebih korelatif dengan target ('price'), seperti tipe body mobil dan fitur mobil. Selain itu, adanya penambahan data terbaru untuk Syarah tentu akan dapat mengimprovisasi kapasitas prediksi dari model.\n",
    "- Mendiskusikan dengan user / stakeholders sehingga dapat lebih terarah untuk proses pengembangan modelnya. \n",
    "-  Lakukan A/B testing untuk menguji tingkat efektivitas dan ketepatan model terhadap harga mobil bekas jika dibandingkan dengan user yang menentukan harga jual mobil bekas.\n",
    "- Kumpulkan data yang lebih banyak untuk melatih model\n"
   ]
  },
  {
   "cell_type": "markdown",
   "metadata": {},
   "source": [
    "### **Save Model**"
   ]
  },
  {
   "cell_type": "code",
   "execution_count": 244,
   "metadata": {},
   "outputs": [],
   "source": [
    "import pickle\n",
    "\n",
    "# best model\n",
    "xgb_tune = grid_search.best_estimator_\n",
    "xgb_tune\n",
    "\n",
    "# fit\n",
    "xgb_tune.fit(x,y)\n",
    "\n",
    "# save \n",
    "pickle.dump(xgb_tune, open('model_xgb.sav', 'wb'))\n"
   ]
  },
  {
   "cell_type": "code",
   "execution_count": 245,
   "metadata": {},
   "outputs": [
    {
     "data": {
      "text/html": [
       "<style>#sk-container-id-9 {color: black;}#sk-container-id-9 pre{padding: 0;}#sk-container-id-9 div.sk-toggleable {background-color: white;}#sk-container-id-9 label.sk-toggleable__label {cursor: pointer;display: block;width: 100%;margin-bottom: 0;padding: 0.3em;box-sizing: border-box;text-align: center;}#sk-container-id-9 label.sk-toggleable__label-arrow:before {content: \"▸\";float: left;margin-right: 0.25em;color: #696969;}#sk-container-id-9 label.sk-toggleable__label-arrow:hover:before {color: black;}#sk-container-id-9 div.sk-estimator:hover label.sk-toggleable__label-arrow:before {color: black;}#sk-container-id-9 div.sk-toggleable__content {max-height: 0;max-width: 0;overflow: hidden;text-align: left;background-color: #f0f8ff;}#sk-container-id-9 div.sk-toggleable__content pre {margin: 0.2em;color: black;border-radius: 0.25em;background-color: #f0f8ff;}#sk-container-id-9 input.sk-toggleable__control:checked~div.sk-toggleable__content {max-height: 200px;max-width: 100%;overflow: auto;}#sk-container-id-9 input.sk-toggleable__control:checked~label.sk-toggleable__label-arrow:before {content: \"▾\";}#sk-container-id-9 div.sk-estimator input.sk-toggleable__control:checked~label.sk-toggleable__label {background-color: #d4ebff;}#sk-container-id-9 div.sk-label input.sk-toggleable__control:checked~label.sk-toggleable__label {background-color: #d4ebff;}#sk-container-id-9 input.sk-hidden--visually {border: 0;clip: rect(1px 1px 1px 1px);clip: rect(1px, 1px, 1px, 1px);height: 1px;margin: -1px;overflow: hidden;padding: 0;position: absolute;width: 1px;}#sk-container-id-9 div.sk-estimator {font-family: monospace;background-color: #f0f8ff;border: 1px dotted black;border-radius: 0.25em;box-sizing: border-box;margin-bottom: 0.5em;}#sk-container-id-9 div.sk-estimator:hover {background-color: #d4ebff;}#sk-container-id-9 div.sk-parallel-item::after {content: \"\";width: 100%;border-bottom: 1px solid gray;flex-grow: 1;}#sk-container-id-9 div.sk-label:hover label.sk-toggleable__label {background-color: #d4ebff;}#sk-container-id-9 div.sk-serial::before {content: \"\";position: absolute;border-left: 1px solid gray;box-sizing: border-box;top: 0;bottom: 0;left: 50%;z-index: 0;}#sk-container-id-9 div.sk-serial {display: flex;flex-direction: column;align-items: center;background-color: white;padding-right: 0.2em;padding-left: 0.2em;position: relative;}#sk-container-id-9 div.sk-item {position: relative;z-index: 1;}#sk-container-id-9 div.sk-parallel {display: flex;align-items: stretch;justify-content: center;background-color: white;position: relative;}#sk-container-id-9 div.sk-item::before, #sk-container-id-9 div.sk-parallel-item::before {content: \"\";position: absolute;border-left: 1px solid gray;box-sizing: border-box;top: 0;bottom: 0;left: 50%;z-index: -1;}#sk-container-id-9 div.sk-parallel-item {display: flex;flex-direction: column;z-index: 1;position: relative;background-color: white;}#sk-container-id-9 div.sk-parallel-item:first-child::after {align-self: flex-end;width: 50%;}#sk-container-id-9 div.sk-parallel-item:last-child::after {align-self: flex-start;width: 50%;}#sk-container-id-9 div.sk-parallel-item:only-child::after {width: 0;}#sk-container-id-9 div.sk-dashed-wrapped {border: 1px dashed gray;margin: 0 0.4em 0.5em 0.4em;box-sizing: border-box;padding-bottom: 0.4em;background-color: white;}#sk-container-id-9 div.sk-label label {font-family: monospace;font-weight: bold;display: inline-block;line-height: 1.2em;}#sk-container-id-9 div.sk-label-container {text-align: center;}#sk-container-id-9 div.sk-container {/* jupyter's `normalize.less` sets `[hidden] { display: none; }` but bootstrap.min.css set `[hidden] { display: none !important; }` so we also need the `!important` here to be able to override the default hidden behavior on the sphinx rendered scikit-learn.org. See: https://github.com/scikit-learn/scikit-learn/issues/21755 */display: inline-block !important;position: relative;}#sk-container-id-9 div.sk-text-repr-fallback {display: none;}</style><div id=\"sk-container-id-9\" class=\"sk-top-container\"><div class=\"sk-text-repr-fallback\"><pre>Pipeline(steps=[(&#x27;preprocessor&#x27;,\n",
       "                 ColumnTransformer(remainder=&#x27;passthrough&#x27;,\n",
       "                                   transformers=[(&#x27;scaler&#x27;, RobustScaler(),\n",
       "                                                  [&#x27;Year&#x27;, &#x27;Engine_Size&#x27;,\n",
       "                                                   &#x27;Mileage&#x27;]),\n",
       "                                                 (&#x27;One Hot&#x27;, OneHotEncoder(),\n",
       "                                                  [&#x27;Gear_Type&#x27;, &#x27;Origin&#x27;,\n",
       "                                                   &#x27;Options&#x27;]),\n",
       "                                                 (&#x27;Binary&#x27;, BinaryEncoder(),\n",
       "                                                  [&#x27;Region&#x27;, &#x27;Make&#x27;,\n",
       "                                                   &#x27;Type&#x27;])])),\n",
       "                (&#x27;regressor&#x27;,\n",
       "                 XGBRegressor(base_score=None, booster=None, callbacks=None,\n",
       "                              colsample_bylevel=...\n",
       "                              feature_types=None, gamma=0, grow_policy=None,\n",
       "                              importance_type=None,\n",
       "                              interaction_constraints=None, learning_rate=0.1,\n",
       "                              max_bin=None, max_cat_threshold=None,\n",
       "                              max_cat_to_onehot=None, max_delta_step=None,\n",
       "                              max_depth=5, max_leaves=None,\n",
       "                              min_child_weight=None, missing=nan,\n",
       "                              monotone_constraints=None, multi_strategy=None,\n",
       "                              n_estimators=300, n_jobs=None,\n",
       "                              num_parallel_tree=None, random_state=2024, ...))])</pre><b>In a Jupyter environment, please rerun this cell to show the HTML representation or trust the notebook. <br />On GitHub, the HTML representation is unable to render, please try loading this page with nbviewer.org.</b></div><div class=\"sk-container\" hidden><div class=\"sk-item sk-dashed-wrapped\"><div class=\"sk-label-container\"><div class=\"sk-label sk-toggleable\"><input class=\"sk-toggleable__control sk-hidden--visually\" id=\"sk-estimator-id-94\" type=\"checkbox\" ><label for=\"sk-estimator-id-94\" class=\"sk-toggleable__label sk-toggleable__label-arrow\">Pipeline</label><div class=\"sk-toggleable__content\"><pre>Pipeline(steps=[(&#x27;preprocessor&#x27;,\n",
       "                 ColumnTransformer(remainder=&#x27;passthrough&#x27;,\n",
       "                                   transformers=[(&#x27;scaler&#x27;, RobustScaler(),\n",
       "                                                  [&#x27;Year&#x27;, &#x27;Engine_Size&#x27;,\n",
       "                                                   &#x27;Mileage&#x27;]),\n",
       "                                                 (&#x27;One Hot&#x27;, OneHotEncoder(),\n",
       "                                                  [&#x27;Gear_Type&#x27;, &#x27;Origin&#x27;,\n",
       "                                                   &#x27;Options&#x27;]),\n",
       "                                                 (&#x27;Binary&#x27;, BinaryEncoder(),\n",
       "                                                  [&#x27;Region&#x27;, &#x27;Make&#x27;,\n",
       "                                                   &#x27;Type&#x27;])])),\n",
       "                (&#x27;regressor&#x27;,\n",
       "                 XGBRegressor(base_score=None, booster=None, callbacks=None,\n",
       "                              colsample_bylevel=...\n",
       "                              feature_types=None, gamma=0, grow_policy=None,\n",
       "                              importance_type=None,\n",
       "                              interaction_constraints=None, learning_rate=0.1,\n",
       "                              max_bin=None, max_cat_threshold=None,\n",
       "                              max_cat_to_onehot=None, max_delta_step=None,\n",
       "                              max_depth=5, max_leaves=None,\n",
       "                              min_child_weight=None, missing=nan,\n",
       "                              monotone_constraints=None, multi_strategy=None,\n",
       "                              n_estimators=300, n_jobs=None,\n",
       "                              num_parallel_tree=None, random_state=2024, ...))])</pre></div></div></div><div class=\"sk-serial\"><div class=\"sk-item sk-dashed-wrapped\"><div class=\"sk-label-container\"><div class=\"sk-label sk-toggleable\"><input class=\"sk-toggleable__control sk-hidden--visually\" id=\"sk-estimator-id-95\" type=\"checkbox\" ><label for=\"sk-estimator-id-95\" class=\"sk-toggleable__label sk-toggleable__label-arrow\">preprocessor: ColumnTransformer</label><div class=\"sk-toggleable__content\"><pre>ColumnTransformer(remainder=&#x27;passthrough&#x27;,\n",
       "                  transformers=[(&#x27;scaler&#x27;, RobustScaler(),\n",
       "                                 [&#x27;Year&#x27;, &#x27;Engine_Size&#x27;, &#x27;Mileage&#x27;]),\n",
       "                                (&#x27;One Hot&#x27;, OneHotEncoder(),\n",
       "                                 [&#x27;Gear_Type&#x27;, &#x27;Origin&#x27;, &#x27;Options&#x27;]),\n",
       "                                (&#x27;Binary&#x27;, BinaryEncoder(),\n",
       "                                 [&#x27;Region&#x27;, &#x27;Make&#x27;, &#x27;Type&#x27;])])</pre></div></div></div><div class=\"sk-parallel\"><div class=\"sk-parallel-item\"><div class=\"sk-item\"><div class=\"sk-label-container\"><div class=\"sk-label sk-toggleable\"><input class=\"sk-toggleable__control sk-hidden--visually\" id=\"sk-estimator-id-96\" type=\"checkbox\" ><label for=\"sk-estimator-id-96\" class=\"sk-toggleable__label sk-toggleable__label-arrow\">scaler</label><div class=\"sk-toggleable__content\"><pre>[&#x27;Year&#x27;, &#x27;Engine_Size&#x27;, &#x27;Mileage&#x27;]</pre></div></div></div><div class=\"sk-serial\"><div class=\"sk-item\"><div class=\"sk-estimator sk-toggleable\"><input class=\"sk-toggleable__control sk-hidden--visually\" id=\"sk-estimator-id-97\" type=\"checkbox\" ><label for=\"sk-estimator-id-97\" class=\"sk-toggleable__label sk-toggleable__label-arrow\">RobustScaler</label><div class=\"sk-toggleable__content\"><pre>RobustScaler()</pre></div></div></div></div></div></div><div class=\"sk-parallel-item\"><div class=\"sk-item\"><div class=\"sk-label-container\"><div class=\"sk-label sk-toggleable\"><input class=\"sk-toggleable__control sk-hidden--visually\" id=\"sk-estimator-id-98\" type=\"checkbox\" ><label for=\"sk-estimator-id-98\" class=\"sk-toggleable__label sk-toggleable__label-arrow\">One Hot</label><div class=\"sk-toggleable__content\"><pre>[&#x27;Gear_Type&#x27;, &#x27;Origin&#x27;, &#x27;Options&#x27;]</pre></div></div></div><div class=\"sk-serial\"><div class=\"sk-item\"><div class=\"sk-estimator sk-toggleable\"><input class=\"sk-toggleable__control sk-hidden--visually\" id=\"sk-estimator-id-99\" type=\"checkbox\" ><label for=\"sk-estimator-id-99\" class=\"sk-toggleable__label sk-toggleable__label-arrow\">OneHotEncoder</label><div class=\"sk-toggleable__content\"><pre>OneHotEncoder()</pre></div></div></div></div></div></div><div class=\"sk-parallel-item\"><div class=\"sk-item\"><div class=\"sk-label-container\"><div class=\"sk-label sk-toggleable\"><input class=\"sk-toggleable__control sk-hidden--visually\" id=\"sk-estimator-id-100\" type=\"checkbox\" ><label for=\"sk-estimator-id-100\" class=\"sk-toggleable__label sk-toggleable__label-arrow\">Binary</label><div class=\"sk-toggleable__content\"><pre>[&#x27;Region&#x27;, &#x27;Make&#x27;, &#x27;Type&#x27;]</pre></div></div></div><div class=\"sk-serial\"><div class=\"sk-item\"><div class=\"sk-estimator sk-toggleable\"><input class=\"sk-toggleable__control sk-hidden--visually\" id=\"sk-estimator-id-101\" type=\"checkbox\" ><label for=\"sk-estimator-id-101\" class=\"sk-toggleable__label sk-toggleable__label-arrow\">BinaryEncoder</label><div class=\"sk-toggleable__content\"><pre>BinaryEncoder()</pre></div></div></div></div></div></div><div class=\"sk-parallel-item\"><div class=\"sk-item\"><div class=\"sk-label-container\"><div class=\"sk-label sk-toggleable\"><input class=\"sk-toggleable__control sk-hidden--visually\" id=\"sk-estimator-id-102\" type=\"checkbox\" ><label for=\"sk-estimator-id-102\" class=\"sk-toggleable__label sk-toggleable__label-arrow\">remainder</label><div class=\"sk-toggleable__content\"><pre>[]</pre></div></div></div><div class=\"sk-serial\"><div class=\"sk-item\"><div class=\"sk-estimator sk-toggleable\"><input class=\"sk-toggleable__control sk-hidden--visually\" id=\"sk-estimator-id-103\" type=\"checkbox\" ><label for=\"sk-estimator-id-103\" class=\"sk-toggleable__label sk-toggleable__label-arrow\">passthrough</label><div class=\"sk-toggleable__content\"><pre>passthrough</pre></div></div></div></div></div></div></div></div><div class=\"sk-item\"><div class=\"sk-estimator sk-toggleable\"><input class=\"sk-toggleable__control sk-hidden--visually\" id=\"sk-estimator-id-104\" type=\"checkbox\" ><label for=\"sk-estimator-id-104\" class=\"sk-toggleable__label sk-toggleable__label-arrow\">XGBRegressor</label><div class=\"sk-toggleable__content\"><pre>XGBRegressor(base_score=None, booster=None, callbacks=None,\n",
       "             colsample_bylevel=None, colsample_bynode=None,\n",
       "             colsample_bytree=0.9, device=None, early_stopping_rounds=None,\n",
       "             enable_categorical=False, eval_metric=None, feature_types=None,\n",
       "             gamma=0, grow_policy=None, importance_type=None,\n",
       "             interaction_constraints=None, learning_rate=0.1, max_bin=None,\n",
       "             max_cat_threshold=None, max_cat_to_onehot=None,\n",
       "             max_delta_step=None, max_depth=5, max_leaves=None,\n",
       "             min_child_weight=None, missing=nan, monotone_constraints=None,\n",
       "             multi_strategy=None, n_estimators=300, n_jobs=None,\n",
       "             num_parallel_tree=None, random_state=2024, ...)</pre></div></div></div></div></div></div></div>"
      ],
      "text/plain": [
       "Pipeline(steps=[('preprocessor',\n",
       "                 ColumnTransformer(remainder='passthrough',\n",
       "                                   transformers=[('scaler', RobustScaler(),\n",
       "                                                  ['Year', 'Engine_Size',\n",
       "                                                   'Mileage']),\n",
       "                                                 ('One Hot', OneHotEncoder(),\n",
       "                                                  ['Gear_Type', 'Origin',\n",
       "                                                   'Options']),\n",
       "                                                 ('Binary', BinaryEncoder(),\n",
       "                                                  ['Region', 'Make',\n",
       "                                                   'Type'])])),\n",
       "                ('regressor',\n",
       "                 XGBRegressor(base_score=None, booster=None, callbacks=None,\n",
       "                              colsample_bylevel=...\n",
       "                              feature_types=None, gamma=0, grow_policy=None,\n",
       "                              importance_type=None,\n",
       "                              interaction_constraints=None, learning_rate=0.1,\n",
       "                              max_bin=None, max_cat_threshold=None,\n",
       "                              max_cat_to_onehot=None, max_delta_step=None,\n",
       "                              max_depth=5, max_leaves=None,\n",
       "                              min_child_weight=None, missing=nan,\n",
       "                              monotone_constraints=None, multi_strategy=None,\n",
       "                              n_estimators=300, n_jobs=None,\n",
       "                              num_parallel_tree=None, random_state=2024, ...))])"
      ]
     },
     "execution_count": 245,
     "metadata": {},
     "output_type": "execute_result"
    }
   ],
   "source": [
    "# Load model\n",
    "model_loaded = pickle.load(open('model_xgb.sav', 'rb'))\n",
    "model_loaded "
   ]
  }
 ],
 "metadata": {
  "kernelspec": {
   "display_name": "base",
   "language": "python",
   "name": "python3"
  },
  "language_info": {
   "codemirror_mode": {
    "name": "ipython",
    "version": 3
   },
   "file_extension": ".py",
   "mimetype": "text/x-python",
   "name": "python",
   "nbconvert_exporter": "python",
   "pygments_lexer": "ipython3",
   "version": "3.11.5"
  }
 },
 "nbformat": 4,
 "nbformat_minor": 2
}
